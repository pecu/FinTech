{
 "cells": [
  {
   "cell_type": "code",
   "execution_count": 603,
   "metadata": {},
   "outputs": [],
   "source": [
    "import pandas as pd\n",
    "import seaborn as sns\n",
    "import matplotlib.pyplot as plt\n",
    "import numpy as np"
   ]
  },
  {
   "cell_type": "code",
   "execution_count": 604,
   "metadata": {},
   "outputs": [],
   "source": [
    "df = pd.read_csv('ml_method_front_meta_with_ff.csv')  "
   ]
  },
  {
   "cell_type": "code",
   "execution_count": 605,
   "metadata": {},
   "outputs": [
    {
     "data": {
      "text/html": [
       "<div>\n",
       "<style scoped>\n",
       "    .dataframe tbody tr th:only-of-type {\n",
       "        vertical-align: middle;\n",
       "    }\n",
       "\n",
       "    .dataframe tbody tr th {\n",
       "        vertical-align: top;\n",
       "    }\n",
       "\n",
       "    .dataframe thead th {\n",
       "        text-align: right;\n",
       "    }\n",
       "</style>\n",
       "<table border=\"1\" class=\"dataframe\">\n",
       "  <thead>\n",
       "    <tr style=\"text-align: right;\">\n",
       "      <th></th>\n",
       "      <th>id</th>\n",
       "      <th>bmi-gt</th>\n",
       "      <th>ds</th>\n",
       "      <th>FG-width</th>\n",
       "      <th>FG-height</th>\n",
       "      <th>FG-size</th>\n",
       "      <th>img-width</th>\n",
       "      <th>img-height</th>\n",
       "      <th>img-size</th>\n",
       "      <th>CJWR</th>\n",
       "      <th>WHR</th>\n",
       "      <th>PAR</th>\n",
       "      <th>ES</th>\n",
       "      <th>FWR</th>\n",
       "      <th>MEH</th>\n",
       "      <th>CFR</th>\n",
       "      <th>CFR-HZJ</th>\n",
       "      <th>CFR-NSJ</th>\n",
       "      <th>CFR-FHH</th>\n",
       "      <th>CFR-FHN</th>\n",
       "    </tr>\n",
       "  </thead>\n",
       "  <tbody>\n",
       "    <tr>\n",
       "      <th>0</th>\n",
       "      <td>DSA_2.jpg</td>\n",
       "      <td>35.777505</td>\n",
       "      <td>A</td>\n",
       "      <td>253</td>\n",
       "      <td>232</td>\n",
       "      <td>58696</td>\n",
       "      <td>272</td>\n",
       "      <td>293</td>\n",
       "      <td>63104</td>\n",
       "      <td>1.212790</td>\n",
       "      <td>1.565656</td>\n",
       "      <td>0.020645</td>\n",
       "      <td>44.522124</td>\n",
       "      <td>1.384366</td>\n",
       "      <td>35.173790</td>\n",
       "      <td>0.426897</td>\n",
       "      <td>0.002411</td>\n",
       "      <td>0.002270</td>\n",
       "      <td>0.453304</td>\n",
       "      <td>0.402028</td>\n",
       "    </tr>\n",
       "    <tr>\n",
       "      <th>1</th>\n",
       "      <td>DSA_6.jpg</td>\n",
       "      <td>27.435077</td>\n",
       "      <td>A</td>\n",
       "      <td>209</td>\n",
       "      <td>207</td>\n",
       "      <td>43263</td>\n",
       "      <td>247</td>\n",
       "      <td>249</td>\n",
       "      <td>51129</td>\n",
       "      <td>1.216243</td>\n",
       "      <td>1.540715</td>\n",
       "      <td>0.022962</td>\n",
       "      <td>34.997455</td>\n",
       "      <td>1.238131</td>\n",
       "      <td>30.036264</td>\n",
       "      <td>0.414737</td>\n",
       "      <td>0.002469</td>\n",
       "      <td>0.002397</td>\n",
       "      <td>0.427080</td>\n",
       "      <td>0.402751</td>\n",
       "    </tr>\n",
       "    <tr>\n",
       "      <th>2</th>\n",
       "      <td>DSA_7.jpg</td>\n",
       "      <td>23.515755</td>\n",
       "      <td>A</td>\n",
       "      <td>177</td>\n",
       "      <td>167</td>\n",
       "      <td>29559</td>\n",
       "      <td>207</td>\n",
       "      <td>217</td>\n",
       "      <td>34569</td>\n",
       "      <td>1.243302</td>\n",
       "      <td>1.605609</td>\n",
       "      <td>0.027993</td>\n",
       "      <td>33.034016</td>\n",
       "      <td>1.299471</td>\n",
       "      <td>24.033137</td>\n",
       "      <td>0.348078</td>\n",
       "      <td>0.002540</td>\n",
       "      <td>0.002504</td>\n",
       "      <td>0.353075</td>\n",
       "      <td>0.343152</td>\n",
       "    </tr>\n",
       "    <tr>\n",
       "      <th>3</th>\n",
       "      <td>DSA_11.jpg</td>\n",
       "      <td>23.627627</td>\n",
       "      <td>A</td>\n",
       "      <td>255</td>\n",
       "      <td>227</td>\n",
       "      <td>57885</td>\n",
       "      <td>267</td>\n",
       "      <td>295</td>\n",
       "      <td>60609</td>\n",
       "      <td>1.215895</td>\n",
       "      <td>1.699918</td>\n",
       "      <td>0.019097</td>\n",
       "      <td>43.026034</td>\n",
       "      <td>1.227905</td>\n",
       "      <td>29.619947</td>\n",
       "      <td>0.386541</td>\n",
       "      <td>0.001911</td>\n",
       "      <td>0.002018</td>\n",
       "      <td>0.366024</td>\n",
       "      <td>0.408208</td>\n",
       "    </tr>\n",
       "    <tr>\n",
       "      <th>4</th>\n",
       "      <td>DSA_12.jpg</td>\n",
       "      <td>26.705346</td>\n",
       "      <td>A</td>\n",
       "      <td>242</td>\n",
       "      <td>215</td>\n",
       "      <td>52030</td>\n",
       "      <td>255</td>\n",
       "      <td>282</td>\n",
       "      <td>54825</td>\n",
       "      <td>1.229866</td>\n",
       "      <td>1.555323</td>\n",
       "      <td>0.019880</td>\n",
       "      <td>41.999127</td>\n",
       "      <td>1.248707</td>\n",
       "      <td>25.347040</td>\n",
       "      <td>0.412218</td>\n",
       "      <td>0.002134</td>\n",
       "      <td>0.002146</td>\n",
       "      <td>0.409931</td>\n",
       "      <td>0.414519</td>\n",
       "    </tr>\n",
       "  </tbody>\n",
       "</table>\n",
       "</div>"
      ],
      "text/plain": [
       "           id     bmi-gt ds  FG-width  FG-height  FG-size  img-width  \\\n",
       "0   DSA_2.jpg  35.777505  A       253        232    58696        272   \n",
       "1   DSA_6.jpg  27.435077  A       209        207    43263        247   \n",
       "2   DSA_7.jpg  23.515755  A       177        167    29559        207   \n",
       "3  DSA_11.jpg  23.627627  A       255        227    57885        267   \n",
       "4  DSA_12.jpg  26.705346  A       242        215    52030        255   \n",
       "\n",
       "   img-height  img-size      CJWR       WHR       PAR         ES       FWR  \\\n",
       "0         293     63104  1.212790  1.565656  0.020645  44.522124  1.384366   \n",
       "1         249     51129  1.216243  1.540715  0.022962  34.997455  1.238131   \n",
       "2         217     34569  1.243302  1.605609  0.027993  33.034016  1.299471   \n",
       "3         295     60609  1.215895  1.699918  0.019097  43.026034  1.227905   \n",
       "4         282     54825  1.229866  1.555323  0.019880  41.999127  1.248707   \n",
       "\n",
       "         MEH       CFR   CFR-HZJ   CFR-NSJ   CFR-FHH   CFR-FHN  \n",
       "0  35.173790  0.426897  0.002411  0.002270  0.453304  0.402028  \n",
       "1  30.036264  0.414737  0.002469  0.002397  0.427080  0.402751  \n",
       "2  24.033137  0.348078  0.002540  0.002504  0.353075  0.343152  \n",
       "3  29.619947  0.386541  0.001911  0.002018  0.366024  0.408208  \n",
       "4  25.347040  0.412218  0.002134  0.002146  0.409931  0.414519  "
      ]
     },
     "execution_count": 605,
     "metadata": {},
     "output_type": "execute_result"
    }
   ],
   "source": [
    "df.head()"
   ]
  },
  {
   "cell_type": "code",
   "execution_count": 606,
   "metadata": {},
   "outputs": [
    {
     "data": {
      "text/plain": [
       "(array([1.028e+03, 5.770e+02, 2.860e+02, 1.330e+02, 8.800e+01, 5.500e+01,\n",
       "        4.000e+01, 2.700e+01, 1.600e+01, 1.000e+01, 1.400e+01, 2.300e+01,\n",
       "        1.200e+01, 1.300e+01, 5.000e+00, 8.000e+00, 8.000e+00, 6.000e+00,\n",
       "        4.000e+00, 5.000e+00, 5.000e+00, 4.000e+00, 6.000e+00, 7.000e+00,\n",
       "        4.000e+00, 0.000e+00, 3.000e+00, 0.000e+00, 5.000e+00, 0.000e+00,\n",
       "        1.000e+00, 2.000e+00, 4.000e+00, 0.000e+00, 2.000e+00, 2.000e+00,\n",
       "        0.000e+00, 1.000e+00, 0.000e+00, 3.000e+00, 0.000e+00, 2.000e+00,\n",
       "        1.000e+00, 2.000e+00, 1.000e+00, 0.000e+00, 0.000e+00, 2.000e+00,\n",
       "        0.000e+00, 0.000e+00, 0.000e+00, 0.000e+00, 0.000e+00, 1.000e+00,\n",
       "        0.000e+00, 1.000e+00, 0.000e+00, 0.000e+00, 1.000e+00, 1.000e+00,\n",
       "        0.000e+00, 0.000e+00, 0.000e+00, 0.000e+00, 1.000e+00, 0.000e+00,\n",
       "        0.000e+00, 0.000e+00, 0.000e+00, 0.000e+00, 0.000e+00, 0.000e+00,\n",
       "        0.000e+00, 0.000e+00, 0.000e+00, 0.000e+00, 0.000e+00, 0.000e+00,\n",
       "        0.000e+00, 1.000e+00, 0.000e+00, 0.000e+00, 0.000e+00, 0.000e+00,\n",
       "        0.000e+00, 0.000e+00, 0.000e+00, 0.000e+00, 0.000e+00, 0.000e+00,\n",
       "        0.000e+00, 0.000e+00, 0.000e+00, 0.000e+00, 0.000e+00, 0.000e+00,\n",
       "        0.000e+00, 0.000e+00, 0.000e+00, 1.000e+00]),\n",
       " array([7.54000000e+02, 2.66478300e+04, 5.25416600e+04, 7.84354900e+04,\n",
       "        1.04329320e+05, 1.30223150e+05, 1.56116980e+05, 1.82010810e+05,\n",
       "        2.07904640e+05, 2.33798470e+05, 2.59692300e+05, 2.85586130e+05,\n",
       "        3.11479960e+05, 3.37373790e+05, 3.63267620e+05, 3.89161450e+05,\n",
       "        4.15055280e+05, 4.40949110e+05, 4.66842940e+05, 4.92736770e+05,\n",
       "        5.18630600e+05, 5.44524430e+05, 5.70418260e+05, 5.96312090e+05,\n",
       "        6.22205920e+05, 6.48099750e+05, 6.73993580e+05, 6.99887410e+05,\n",
       "        7.25781240e+05, 7.51675070e+05, 7.77568900e+05, 8.03462730e+05,\n",
       "        8.29356560e+05, 8.55250390e+05, 8.81144220e+05, 9.07038050e+05,\n",
       "        9.32931880e+05, 9.58825710e+05, 9.84719540e+05, 1.01061337e+06,\n",
       "        1.03650720e+06, 1.06240103e+06, 1.08829486e+06, 1.11418869e+06,\n",
       "        1.14008252e+06, 1.16597635e+06, 1.19187018e+06, 1.21776401e+06,\n",
       "        1.24365784e+06, 1.26955167e+06, 1.29544550e+06, 1.32133933e+06,\n",
       "        1.34723316e+06, 1.37312699e+06, 1.39902082e+06, 1.42491465e+06,\n",
       "        1.45080848e+06, 1.47670231e+06, 1.50259614e+06, 1.52848997e+06,\n",
       "        1.55438380e+06, 1.58027763e+06, 1.60617146e+06, 1.63206529e+06,\n",
       "        1.65795912e+06, 1.68385295e+06, 1.70974678e+06, 1.73564061e+06,\n",
       "        1.76153444e+06, 1.78742827e+06, 1.81332210e+06, 1.83921593e+06,\n",
       "        1.86510976e+06, 1.89100359e+06, 1.91689742e+06, 1.94279125e+06,\n",
       "        1.96868508e+06, 1.99457891e+06, 2.02047274e+06, 2.04636657e+06,\n",
       "        2.07226040e+06, 2.09815423e+06, 2.12404806e+06, 2.14994189e+06,\n",
       "        2.17583572e+06, 2.20172955e+06, 2.22762338e+06, 2.25351721e+06,\n",
       "        2.27941104e+06, 2.30530487e+06, 2.33119870e+06, 2.35709253e+06,\n",
       "        2.38298636e+06, 2.40888019e+06, 2.43477402e+06, 2.46066785e+06,\n",
       "        2.48656168e+06, 2.51245551e+06, 2.53834934e+06, 2.56424317e+06,\n",
       "        2.59013700e+06]),\n",
       " <a list of 100 Patch objects>)"
      ]
     },
     "execution_count": 606,
     "metadata": {},
     "output_type": "execute_result"
    },
    {
     "data": {
      "image/png": "[encoded data removed]",
      "text/plain": [
       "<Figure size 360x360 with 1 Axes>"
      ]
     },
     "metadata": {
      "needs_background": "light"
     },
     "output_type": "display_data"
    }
   ],
   "source": [
    "plt.hist(df['FG-size'], bins = 100)"
   ]
  },
  {
   "cell_type": "code",
   "execution_count": 607,
   "metadata": {},
   "outputs": [
    {
     "data": {
      "text/plain": [
       "<matplotlib.axes._subplots.AxesSubplot at 0x29200141748>"
      ]
     },
     "execution_count": 607,
     "metadata": {},
     "output_type": "execute_result"
    },
    {
     "data": {
      "image/png": "[encoded data removed]",
      "text/plain": [
       "<Figure size 360x360 with 1 Axes>"
      ]
     },
     "metadata": {
      "needs_background": "light"
     },
     "output_type": "display_data"
    }
   ],
   "source": [
    "newdf = df[df['FG-size'].between(7e+02, 7e+04)]\n",
    "newdf = newdf.drop(newdf[newdf['bmi-gt'] > 38].index)\n",
    "sns.countplot('ds',data=newdf[['ds']])"
   ]
  },
  {
   "cell_type": "code",
   "execution_count": 608,
   "metadata": {},
   "outputs": [
    {
     "data": {
      "text/plain": [
       "(array([ 1.,  1.,  0.,  2.,  4.,  4.,  9.,  5.,  4.,  5.,  7.,  7., 10.,\n",
       "         8.,  5.,  9.,  9., 23.,  3., 17.,  7., 15.,  2.,  7.,  6.,  8.,\n",
       "         8.,  7., 10., 10.,  2.,  1.,  5.,  1.,  0.,  6.,  1.,  1.,  1.,\n",
       "         3.,  0.,  3.,  3.,  0.,  1.,  2.,  1.,  0.,  0.,  1.]),\n",
       " array([17.27770235, 17.67826296, 18.07882357, 18.47938418, 18.87994479,\n",
       "        19.2805054 , 19.68106601, 20.08162662, 20.48218723, 20.88274784,\n",
       "        21.28330845, 21.68386906, 22.08442966, 22.48499027, 22.88555088,\n",
       "        23.28611149, 23.6866721 , 24.08723271, 24.48779332, 24.88835393,\n",
       "        25.28891454, 25.68947515, 26.09003576, 26.49059637, 26.89115698,\n",
       "        27.29171759, 27.6922782 , 28.09283881, 28.49339942, 28.89396003,\n",
       "        29.29452064, 29.69508125, 30.09564186, 30.49620247, 30.89676308,\n",
       "        31.29732368, 31.69788429, 32.0984449 , 32.49900551, 32.89956612,\n",
       "        33.30012673, 33.70068734, 34.10124795, 34.50180856, 34.90236917,\n",
       "        35.30292978, 35.70349039, 36.104051  , 36.50461161, 36.90517222,\n",
       "        37.30573283]),\n",
       " <a list of 50 Patch objects>)"
      ]
     },
     "execution_count": 608,
     "metadata": {},
     "output_type": "execute_result"
    },
    {
     "data": {
      "image/png": "[encoded data removed]",
      "text/plain": [
       "<Figure size 360x360 with 1 Axes>"
      ]
     },
     "metadata": {
      "needs_background": "light"
     },
     "output_type": "display_data"
    }
   ],
   "source": [
    "plt.hist(newdf['bmi-gt'][newdf['ds'] == 'A'], bins = 50)"
   ]
  },
  {
   "cell_type": "code",
   "execution_count": 609,
   "metadata": {},
   "outputs": [
    {
     "data": {
      "text/plain": [
       "(array([ 2.,  1.,  3.,  6.,  5.,  6.,  4.,  7.,  8.,  7.,  8.,  4.,  8.,\n",
       "         5.,  9.,  9., 13., 10.,  9.,  9., 10., 10.,  5.,  3.,  5.,  6.,\n",
       "         4.,  4.,  4.,  1.,  2.,  0.,  0.,  0.,  0.,  1.,  2.,  0.,  1.,\n",
       "         0.,  1.,  1.,  0.,  1.,  0.,  0.,  0.,  0.,  0.,  1.]),\n",
       " array([17.04032878, 17.42532105, 17.81031333, 18.1953056 , 18.58029788,\n",
       "        18.96529015, 19.35028243, 19.7352747 , 20.12026698, 20.50525925,\n",
       "        20.89025152, 21.2752438 , 21.66023607, 22.04522835, 22.43022062,\n",
       "        22.8152129 , 23.20020517, 23.58519744, 23.97018972, 24.35518199,\n",
       "        24.74017427, 25.12516654, 25.51015882, 25.89515109, 26.28014337,\n",
       "        26.66513564, 27.05012791, 27.43512019, 27.82011246, 28.20510474,\n",
       "        28.59009701, 28.97508929, 29.36008156, 29.74507384, 30.13006611,\n",
       "        30.51505838, 30.90005066, 31.28504293, 31.67003521, 32.05502748,\n",
       "        32.44001976, 32.82501203, 33.2100043 , 33.59499658, 33.97998885,\n",
       "        34.36498113, 34.7499734 , 35.13496568, 35.51995795, 35.90495023,\n",
       "        36.2899425 ]),\n",
       " <a list of 50 Patch objects>)"
      ]
     },
     "execution_count": 609,
     "metadata": {},
     "output_type": "execute_result"
    },
    {
     "data": {
      "image/png": "[encoded data removed]",
      "text/plain": [
       "<Figure size 360x360 with 1 Axes>"
      ]
     },
     "metadata": {
      "needs_background": "light"
     },
     "output_type": "display_data"
    }
   ],
   "source": [
    "plt.hist(newdf['bmi-gt'][newdf['ds'] == 'B'], bins = 50)"
   ]
  },
  {
   "cell_type": "code",
   "execution_count": 610,
   "metadata": {},
   "outputs": [
    {
     "data": {
      "text/plain": [
       "(array([ 3.,  0.,  0.,  5.,  2.,  1.,  5., 12., 16., 14., 19., 25., 11.,\n",
       "        34., 16., 49., 20., 33., 29., 40., 30., 33., 24., 26., 41., 28.,\n",
       "        23., 38., 30., 32., 36., 40., 25., 23., 25., 27., 27., 22., 15.,\n",
       "        28., 11., 15., 17., 10., 21., 32., 14., 16., 16., 24.]),\n",
       " array([18.30729167, 18.70061952, 19.09394737, 19.48727522, 19.88060307,\n",
       "        20.27393092, 20.66725877, 21.06058662, 21.45391447, 21.84724232,\n",
       "        22.24057018, 22.63389803, 23.02722588, 23.42055373, 23.81388158,\n",
       "        24.20720943, 24.60053728, 24.99386513, 25.38719298, 25.78052083,\n",
       "        26.17384868, 26.56717654, 26.96050439, 27.35383224, 27.74716009,\n",
       "        28.14048794, 28.53381579, 28.92714364, 29.32047149, 29.71379934,\n",
       "        30.10712719, 30.50045504, 30.89378289, 31.28711075, 31.6804386 ,\n",
       "        32.07376645, 32.4670943 , 32.86042215, 33.25375   , 33.64707785,\n",
       "        34.0404057 , 34.43373355, 34.8270614 , 35.22038925, 35.61371711,\n",
       "        36.00704496, 36.40037281, 36.79370066, 37.18702851, 37.58035636,\n",
       "        37.97368421]),\n",
       " <a list of 50 Patch objects>)"
      ]
     },
     "execution_count": 610,
     "metadata": {},
     "output_type": "execute_result"
    },
    {
     "data": {
      "image/png": "[encoded data removed]",
      "text/plain": [
       "<Figure size 360x360 with 1 Axes>"
      ]
     },
     "metadata": {
      "needs_background": "light"
     },
     "output_type": "display_data"
    }
   ],
   "source": [
    "plt.hist(newdf['bmi-gt'][newdf['ds'] == 'D'], bins = 50)"
   ]
  },
  {
   "cell_type": "code",
   "execution_count": 611,
   "metadata": {},
   "outputs": [
    {
     "data": {
      "text/plain": [
       "(array([3., 1., 2., 1., 0., 1., 2., 3., 0., 2.]),\n",
       " array([10605. , 15497.2, 20389.4, 25281.6, 30173.8, 35066. , 39958.2,\n",
       "        44850.4, 49742.6, 54634.8, 59527. ]),\n",
       " <a list of 10 Patch objects>)"
      ]
     },
     "execution_count": 611,
     "metadata": {},
     "output_type": "execute_result"
    },
    {
     "data": {
      "image/png": "[encoded data removed]",
      "text/plain": [
       "<Figure size 360x360 with 1 Axes>"
      ]
     },
     "metadata": {
      "needs_background": "light"
     },
     "output_type": "display_data"
    }
   ],
   "source": [
    "plt.hist(newdf['FG-size'][newdf['bmi-gt'] < 18.5], bins = 10)"
   ]
  },
  {
   "cell_type": "markdown",
   "metadata": {},
   "source": [
    "Ref. https://depart.femh.org.tw/dietary/3OPD/BMI.htm\n",
    "a: BMI＜18.5\n",
    "b: 18.5≦BMI＜24\n",
    "c: 24≦BMI＜27\n",
    "d: 27≦BMI＜30\n",
    "e: 30≦BMI＜35\n",
    "f: BMI≧35"
   ]
  },
  {
   "cell_type": "code",
   "execution_count": 612,
   "metadata": {},
   "outputs": [
    {
     "data": {
      "text/plain": [
       "(array([39., 34., 40., 38., 37., 36., 47., 35., 22., 16.]),\n",
       " array([ 1224. ,  8070.3, 14916.6, 21762.9, 28609.2, 35455.5, 42301.8,\n",
       "        49148.1, 55994.4, 62840.7, 69687. ]),\n",
       " <a list of 10 Patch objects>)"
      ]
     },
     "execution_count": 612,
     "metadata": {},
     "output_type": "execute_result"
    },
    {
     "data": {
      "image/png": "[encoded data removed]",
      "text/plain": [
       "<Figure size 360x360 with 1 Axes>"
      ]
     },
     "metadata": {
      "needs_background": "light"
     },
     "output_type": "display_data"
    }
   ],
   "source": [
    "plt.hist(newdf['FG-size'][newdf['bmi-gt'].between(18.5, 24)], bins = 10)"
   ]
  },
  {
   "cell_type": "code",
   "execution_count": 613,
   "metadata": {},
   "outputs": [
    {
     "data": {
      "text/plain": [
       "(array([74., 56., 57., 31., 36., 37., 25., 22., 24., 13.]),\n",
       " array([  754. ,  7670.4, 14586.8, 21503.2, 28419.6, 35336. , 42252.4,\n",
       "        49168.8, 56085.2, 63001.6, 69918. ]),\n",
       " <a list of 10 Patch objects>)"
      ]
     },
     "execution_count": 613,
     "metadata": {},
     "output_type": "execute_result"
    },
    {
     "data": {
      "image/png": "[encoded data removed]",
      "text/plain": [
       "<Figure size 360x360 with 1 Axes>"
      ]
     },
     "metadata": {
      "needs_background": "light"
     },
     "output_type": "display_data"
    }
   ],
   "source": [
    "plt.hist(newdf['FG-size'][newdf['bmi-gt'].between(24, 27)], bins = 10)"
   ]
  },
  {
   "cell_type": "code",
   "execution_count": 614,
   "metadata": {},
   "outputs": [
    {
     "data": {
      "text/plain": [
       "(array([57., 50., 39., 22., 27., 23., 30., 26., 17., 12.]),\n",
       " array([ 1443. ,  8241.9, 15040.8, 21839.7, 28638.6, 35437.5, 42236.4,\n",
       "        49035.3, 55834.2, 62633.1, 69432. ]),\n",
       " <a list of 10 Patch objects>)"
      ]
     },
     "execution_count": 614,
     "metadata": {},
     "output_type": "execute_result"
    },
    {
     "data": {
      "image/png": "[encoded data removed]",
      "text/plain": [
       "<Figure size 360x360 with 1 Axes>"
      ]
     },
     "metadata": {
      "needs_background": "light"
     },
     "output_type": "display_data"
    }
   ],
   "source": [
    "plt.hist(newdf['FG-size'][newdf['bmi-gt'].between(27, 30)], bins = 10)"
   ]
  },
  {
   "cell_type": "code",
   "execution_count": 615,
   "metadata": {},
   "outputs": [
    {
     "data": {
      "text/plain": [
       "(array([91., 61., 52., 24., 25., 19., 19., 25., 12., 16.]),\n",
       " array([ 1599. ,  8371.3, 15143.6, 21915.9, 28688.2, 35460.5, 42232.8,\n",
       "        49005.1, 55777.4, 62549.7, 69322. ]),\n",
       " <a list of 10 Patch objects>)"
      ]
     },
     "execution_count": 615,
     "metadata": {},
     "output_type": "execute_result"
    },
    {
     "data": {
      "image/png": "[encoded data removed]",
      "text/plain": [
       "<Figure size 360x360 with 1 Axes>"
      ]
     },
     "metadata": {
      "needs_background": "light"
     },
     "output_type": "display_data"
    }
   ],
   "source": [
    "plt.hist(newdf['FG-size'][newdf['bmi-gt'].between(30, 35)], bins = 10)"
   ]
  },
  {
   "cell_type": "code",
   "execution_count": 616,
   "metadata": {},
   "outputs": [],
   "source": [
    "newdf = newdf.drop(newdf[(newdf['bmi-gt'].between(18.5, 24)) & (newdf['FG-size'] < 40000)].index)\n",
    "newdf = newdf.drop(newdf[(newdf['bmi-gt'].between(24, 27)) & (newdf['FG-size'] < 30000)].index)\n",
    "newdf = newdf.drop(newdf[(newdf['bmi-gt'].between(27, 30)) & (newdf['FG-size'] < 30000)].index)\n",
    "newdf = newdf.drop(newdf[(newdf['bmi-gt'].between(30, 35)) & (newdf['FG-size'] < 20000)].index)"
   ]
  },
  {
   "cell_type": "code",
   "execution_count": 617,
   "metadata": {},
   "outputs": [],
   "source": [
    "newdf['class-6'] = ''"
   ]
  },
  {
   "cell_type": "code",
   "execution_count": 618,
   "metadata": {},
   "outputs": [
    {
     "name": "stderr",
     "output_type": "stream",
     "text": [
      "c:\\python37\\lib\\site-packages\\ipykernel_launcher.py:1: SettingWithCopyWarning: \n",
      "A value is trying to be set on a copy of a slice from a DataFrame\n",
      "\n",
      "See the caveats in the documentation: https://pandas.pydata.org/pandas-docs/stable/user_guide/indexing.html#returning-a-view-versus-a-copy\n",
      "  \"\"\"Entry point for launching an IPython kernel.\n",
      "c:\\python37\\lib\\site-packages\\ipykernel_launcher.py:2: SettingWithCopyWarning: \n",
      "A value is trying to be set on a copy of a slice from a DataFrame\n",
      "\n",
      "See the caveats in the documentation: https://pandas.pydata.org/pandas-docs/stable/user_guide/indexing.html#returning-a-view-versus-a-copy\n",
      "  \n",
      "c:\\python37\\lib\\site-packages\\ipykernel_launcher.py:3: SettingWithCopyWarning: \n",
      "A value is trying to be set on a copy of a slice from a DataFrame\n",
      "\n",
      "See the caveats in the documentation: https://pandas.pydata.org/pandas-docs/stable/user_guide/indexing.html#returning-a-view-versus-a-copy\n",
      "  This is separate from the ipykernel package so we can avoid doing imports until\n",
      "c:\\python37\\lib\\site-packages\\ipykernel_launcher.py:4: SettingWithCopyWarning: \n",
      "A value is trying to be set on a copy of a slice from a DataFrame\n",
      "\n",
      "See the caveats in the documentation: https://pandas.pydata.org/pandas-docs/stable/user_guide/indexing.html#returning-a-view-versus-a-copy\n",
      "  after removing the cwd from sys.path.\n",
      "c:\\python37\\lib\\site-packages\\ipykernel_launcher.py:5: SettingWithCopyWarning: \n",
      "A value is trying to be set on a copy of a slice from a DataFrame\n",
      "\n",
      "See the caveats in the documentation: https://pandas.pydata.org/pandas-docs/stable/user_guide/indexing.html#returning-a-view-versus-a-copy\n",
      "  \"\"\"\n",
      "c:\\python37\\lib\\site-packages\\ipykernel_launcher.py:6: SettingWithCopyWarning: \n",
      "A value is trying to be set on a copy of a slice from a DataFrame\n",
      "\n",
      "See the caveats in the documentation: https://pandas.pydata.org/pandas-docs/stable/user_guide/indexing.html#returning-a-view-versus-a-copy\n",
      "  \n"
     ]
    },
    {
     "data": {
      "text/plain": [
       "id             object\n",
       "bmi-gt        float64\n",
       "ds             object\n",
       "FG-width        int64\n",
       "FG-height       int64\n",
       "FG-size         int64\n",
       "img-width       int64\n",
       "img-height      int64\n",
       "img-size        int64\n",
       "CJWR          float64\n",
       "WHR           float64\n",
       "PAR           float64\n",
       "ES            float64\n",
       "FWR           float64\n",
       "MEH           float64\n",
       "CFR           float64\n",
       "CFR-HZJ       float64\n",
       "CFR-NSJ       float64\n",
       "CFR-FHH       float64\n",
       "CFR-FHN       float64\n",
       "class-6          int8\n",
       "dtype: object"
      ]
     },
     "execution_count": 618,
     "metadata": {},
     "output_type": "execute_result"
    }
   ],
   "source": [
    "newdf['class-6'][newdf['bmi-gt'] < 18.5] = 0\n",
    "newdf['class-6'][newdf['bmi-gt'].between(18.5, 24)] = 1\n",
    "newdf['class-6'][newdf['bmi-gt'].between(24, 27)] = 2\n",
    "newdf['class-6'][newdf['bmi-gt'].between(27, 30)] = 3\n",
    "newdf['class-6'][newdf['bmi-gt'].between(30, 35)] = 4\n",
    "newdf['class-6'][newdf['bmi-gt'] > 35] = 5\n",
    "newdf['class-6'] = newdf['class-6'].astype('int8')\n",
    "newdf.dtypes"
   ]
  },
  {
   "cell_type": "code",
   "execution_count": 619,
   "metadata": {},
   "outputs": [
    {
     "data": {
      "text/plain": [
       "<matplotlib.axes._subplots.AxesSubplot at 0x29200673308>"
      ]
     },
     "execution_count": 619,
     "metadata": {},
     "output_type": "execute_result"
    },
    {
     "data": {
      "image/png": "[encoded data removed]",
      "text/plain": [
       "<Figure size 360x360 with 1 Axes>"
      ]
     },
     "metadata": {
      "needs_background": "light"
     },
     "output_type": "display_data"
    }
   ],
   "source": [
    "sns.countplot('class-6',data=newdf[['class-6']])"
   ]
  },
  {
   "cell_type": "code",
   "execution_count": 620,
   "metadata": {},
   "outputs": [],
   "source": [
    "class0Data = newdf[newdf['class-6'] == 0]"
   ]
  },
  {
   "cell_type": "code",
   "execution_count": 621,
   "metadata": {},
   "outputs": [],
   "source": [
    "MLdf = newdf.append([class0Data]*7,ignore_index=True)"
   ]
  },
  {
   "cell_type": "code",
   "execution_count": 622,
   "metadata": {},
   "outputs": [
    {
     "data": {
      "text/plain": [
       "<matplotlib.axes._subplots.AxesSubplot at 0x29200673a88>"
      ]
     },
     "execution_count": 622,
     "metadata": {},
     "output_type": "execute_result"
    },
    {
     "data": {
      "image/png": "[encoded data removed]",
      "text/plain": [
       "<Figure size 360x360 with 1 Axes>"
      ]
     },
     "metadata": {
      "needs_background": "light"
     },
     "output_type": "display_data"
    }
   ],
   "source": [
    "sns.countplot('class-6',data=MLdf[['class-6']])"
   ]
  },
  {
   "cell_type": "code",
   "execution_count": 623,
   "metadata": {},
   "outputs": [],
   "source": [
    "X = MLdf[['CJWR', 'WHR', 'PAR', 'ES', 'FWR', 'MEH', 'CFR', 'CFR-HZJ', 'CFR-NSJ', 'CFR-FHH', 'CFR-FHN']]\n",
    "from sklearn.decomposition import PCA\n",
    "pca = PCA(n_components=2)\n",
    "principalComponents = pca.fit_transform(X)\n",
    "principalDf = pd.DataFrame(data = principalComponents\n",
    "             , columns = ['principal component 1', 'principal component 2'])"
   ]
  },
  {
   "cell_type": "code",
   "execution_count": 624,
   "metadata": {},
   "outputs": [
    {
     "data": {
      "text/html": [
       "<div>\n",
       "<style scoped>\n",
       "    .dataframe tbody tr th:only-of-type {\n",
       "        vertical-align: middle;\n",
       "    }\n",
       "\n",
       "    .dataframe tbody tr th {\n",
       "        vertical-align: top;\n",
       "    }\n",
       "\n",
       "    .dataframe thead th {\n",
       "        text-align: right;\n",
       "    }\n",
       "</style>\n",
       "<table border=\"1\" class=\"dataframe\">\n",
       "  <thead>\n",
       "    <tr style=\"text-align: right;\">\n",
       "      <th></th>\n",
       "      <th>principal component 1</th>\n",
       "      <th>principal component 2</th>\n",
       "      <th>class-6</th>\n",
       "    </tr>\n",
       "  </thead>\n",
       "  <tbody>\n",
       "    <tr>\n",
       "      <th>0</th>\n",
       "      <td>-12.051170</td>\n",
       "      <td>-0.245882</td>\n",
       "      <td>5</td>\n",
       "    </tr>\n",
       "    <tr>\n",
       "      <th>1</th>\n",
       "      <td>-1.454146</td>\n",
       "      <td>1.948272</td>\n",
       "      <td>3</td>\n",
       "    </tr>\n",
       "    <tr>\n",
       "      <th>2</th>\n",
       "      <td>-7.332788</td>\n",
       "      <td>-3.537140</td>\n",
       "      <td>1</td>\n",
       "    </tr>\n",
       "    <tr>\n",
       "      <th>3</th>\n",
       "      <td>-3.797740</td>\n",
       "      <td>-6.145886</td>\n",
       "      <td>2</td>\n",
       "    </tr>\n",
       "    <tr>\n",
       "      <th>4</th>\n",
       "      <td>-16.111249</td>\n",
       "      <td>1.244610</td>\n",
       "      <td>3</td>\n",
       "    </tr>\n",
       "  </tbody>\n",
       "</table>\n",
       "</div>"
      ],
      "text/plain": [
       "   principal component 1  principal component 2  class-6\n",
       "0             -12.051170              -0.245882        5\n",
       "1              -1.454146               1.948272        3\n",
       "2              -7.332788              -3.537140        1\n",
       "3              -3.797740              -6.145886        2\n",
       "4             -16.111249               1.244610        3"
      ]
     },
     "execution_count": 624,
     "metadata": {},
     "output_type": "execute_result"
    }
   ],
   "source": [
    "finalDf = pd.concat([principalDf, MLdf[['class-6']]], axis = 1)\n",
    "finalDf.head()"
   ]
  },
  {
   "cell_type": "code",
   "execution_count": 625,
   "metadata": {},
   "outputs": [
    {
     "data": {
      "image/png": "[encoded data removed]",
      "text/plain": [
       "<Figure size 576x576 with 1 Axes>"
      ]
     },
     "metadata": {
      "needs_background": "light"
     },
     "output_type": "display_data"
    }
   ],
   "source": [
    "fig = plt.figure(figsize = (8,8))\n",
    "ax = fig.add_subplot(1,1,1) \n",
    "ax.set_xlabel('Principal Component 1', fontsize = 15)\n",
    "ax.set_ylabel('Principal Component 2', fontsize = 15)\n",
    "ax.set_title('2 component PCA', fontsize = 20)\n",
    "targets = [0, 1, 2, 3, 4, 5]\n",
    "colors = ['r', 'g', 'b', 'c', 'm', 'y']\n",
    "for target, color in zip(targets,colors):\n",
    "    indicesToKeep = finalDf['class-6'] == target\n",
    "    ax.scatter(finalDf.loc[indicesToKeep, 'principal component 1']\n",
    "               , finalDf.loc[indicesToKeep, 'principal component 2']\n",
    "               , c = color\n",
    "               , s = 50)\n",
    "ax.legend(targets)\n",
    "ax.grid()"
   ]
  },
  {
   "cell_type": "code",
   "execution_count": 626,
   "metadata": {},
   "outputs": [],
   "source": [
    "from sklearn import svm, metrics\n",
    "from sklearn.metrics import confusion_matrix, classification_report\n",
    "from sklearn.model_selection import GridSearchCV\n",
    "import xgboost as xgb\n",
    "from sklearn.metrics import mean_squared_error"
   ]
  },
  {
   "cell_type": "code",
   "execution_count": 627,
   "metadata": {},
   "outputs": [
    {
     "data": {
      "text/html": [
       "<div>\n",
       "<style scoped>\n",
       "    .dataframe tbody tr th:only-of-type {\n",
       "        vertical-align: middle;\n",
       "    }\n",
       "\n",
       "    .dataframe tbody tr th {\n",
       "        vertical-align: top;\n",
       "    }\n",
       "\n",
       "    .dataframe thead th {\n",
       "        text-align: right;\n",
       "    }\n",
       "</style>\n",
       "<table border=\"1\" class=\"dataframe\">\n",
       "  <thead>\n",
       "    <tr style=\"text-align: right;\">\n",
       "      <th></th>\n",
       "      <th>bmi-gt</th>\n",
       "      <th>CJWR</th>\n",
       "      <th>WHR</th>\n",
       "      <th>PAR</th>\n",
       "      <th>ES</th>\n",
       "      <th>FWR</th>\n",
       "      <th>MEH</th>\n",
       "      <th>CFR</th>\n",
       "      <th>CFR-HZJ</th>\n",
       "      <th>CFR-NSJ</th>\n",
       "      <th>CFR-FHH</th>\n",
       "      <th>CFR-FHN</th>\n",
       "    </tr>\n",
       "  </thead>\n",
       "  <tbody>\n",
       "    <tr>\n",
       "      <th>bmi-gt</th>\n",
       "      <td>1.000000</td>\n",
       "      <td>-0.069647</td>\n",
       "      <td>-0.059929</td>\n",
       "      <td>0.330815</td>\n",
       "      <td>-0.378954</td>\n",
       "      <td>-0.082912</td>\n",
       "      <td>-0.315590</td>\n",
       "      <td>0.366255</td>\n",
       "      <td>0.368220</td>\n",
       "      <td>0.364196</td>\n",
       "      <td>0.293865</td>\n",
       "      <td>0.352235</td>\n",
       "    </tr>\n",
       "    <tr>\n",
       "      <th>CJWR</th>\n",
       "      <td>-0.069647</td>\n",
       "      <td>1.000000</td>\n",
       "      <td>-0.201328</td>\n",
       "      <td>-0.004232</td>\n",
       "      <td>0.117094</td>\n",
       "      <td>-0.206889</td>\n",
       "      <td>0.084572</td>\n",
       "      <td>-0.371631</td>\n",
       "      <td>-0.111612</td>\n",
       "      <td>-0.084022</td>\n",
       "      <td>-0.370029</td>\n",
       "      <td>-0.212238</td>\n",
       "    </tr>\n",
       "    <tr>\n",
       "      <th>WHR</th>\n",
       "      <td>-0.059929</td>\n",
       "      <td>-0.201328</td>\n",
       "      <td>1.000000</td>\n",
       "      <td>0.044923</td>\n",
       "      <td>-0.015337</td>\n",
       "      <td>0.193161</td>\n",
       "      <td>-0.140684</td>\n",
       "      <td>-0.265097</td>\n",
       "      <td>0.018920</td>\n",
       "      <td>0.100985</td>\n",
       "      <td>-0.478514</td>\n",
       "      <td>0.249647</td>\n",
       "    </tr>\n",
       "    <tr>\n",
       "      <th>PAR</th>\n",
       "      <td>0.330815</td>\n",
       "      <td>-0.004232</td>\n",
       "      <td>0.044923</td>\n",
       "      <td>1.000000</td>\n",
       "      <td>-0.856587</td>\n",
       "      <td>0.069396</td>\n",
       "      <td>-0.767194</td>\n",
       "      <td>0.152188</td>\n",
       "      <td>0.970882</td>\n",
       "      <td>0.980838</td>\n",
       "      <td>0.136148</td>\n",
       "      <td>0.119318</td>\n",
       "    </tr>\n",
       "    <tr>\n",
       "      <th>ES</th>\n",
       "      <td>-0.378954</td>\n",
       "      <td>0.117094</td>\n",
       "      <td>-0.015337</td>\n",
       "      <td>-0.856587</td>\n",
       "      <td>1.000000</td>\n",
       "      <td>-0.003026</td>\n",
       "      <td>0.865500</td>\n",
       "      <td>-0.280678</td>\n",
       "      <td>-0.853234</td>\n",
       "      <td>-0.854864</td>\n",
       "      <td>-0.240387</td>\n",
       "      <td>-0.241173</td>\n",
       "    </tr>\n",
       "    <tr>\n",
       "      <th>FWR</th>\n",
       "      <td>-0.082912</td>\n",
       "      <td>-0.206889</td>\n",
       "      <td>0.193161</td>\n",
       "      <td>0.069396</td>\n",
       "      <td>-0.003026</td>\n",
       "      <td>1.000000</td>\n",
       "      <td>0.021129</td>\n",
       "      <td>0.337352</td>\n",
       "      <td>0.210651</td>\n",
       "      <td>0.163404</td>\n",
       "      <td>0.415740</td>\n",
       "      <td>0.051103</td>\n",
       "    </tr>\n",
       "    <tr>\n",
       "      <th>MEH</th>\n",
       "      <td>-0.315590</td>\n",
       "      <td>0.084572</td>\n",
       "      <td>-0.140684</td>\n",
       "      <td>-0.767194</td>\n",
       "      <td>0.865500</td>\n",
       "      <td>0.021129</td>\n",
       "      <td>1.000000</td>\n",
       "      <td>-0.187004</td>\n",
       "      <td>-0.750342</td>\n",
       "      <td>-0.768098</td>\n",
       "      <td>-0.104372</td>\n",
       "      <td>-0.265447</td>\n",
       "    </tr>\n",
       "    <tr>\n",
       "      <th>CFR</th>\n",
       "      <td>0.366255</td>\n",
       "      <td>-0.371631</td>\n",
       "      <td>-0.265097</td>\n",
       "      <td>0.152188</td>\n",
       "      <td>-0.280678</td>\n",
       "      <td>0.337352</td>\n",
       "      <td>-0.187004</td>\n",
       "      <td>1.000000</td>\n",
       "      <td>0.347371</td>\n",
       "      <td>0.283202</td>\n",
       "      <td>0.928619</td>\n",
       "      <td>0.719687</td>\n",
       "    </tr>\n",
       "    <tr>\n",
       "      <th>CFR-HZJ</th>\n",
       "      <td>0.368220</td>\n",
       "      <td>-0.111612</td>\n",
       "      <td>0.018920</td>\n",
       "      <td>0.970882</td>\n",
       "      <td>-0.853234</td>\n",
       "      <td>0.210651</td>\n",
       "      <td>-0.750342</td>\n",
       "      <td>0.347371</td>\n",
       "      <td>1.000000</td>\n",
       "      <td>0.991806</td>\n",
       "      <td>0.327230</td>\n",
       "      <td>0.241719</td>\n",
       "    </tr>\n",
       "    <tr>\n",
       "      <th>CFR-NSJ</th>\n",
       "      <td>0.364196</td>\n",
       "      <td>-0.084022</td>\n",
       "      <td>0.100985</td>\n",
       "      <td>0.980838</td>\n",
       "      <td>-0.854864</td>\n",
       "      <td>0.163404</td>\n",
       "      <td>-0.768098</td>\n",
       "      <td>0.283202</td>\n",
       "      <td>0.991806</td>\n",
       "      <td>1.000000</td>\n",
       "      <td>0.231686</td>\n",
       "      <td>0.262713</td>\n",
       "    </tr>\n",
       "    <tr>\n",
       "      <th>CFR-FHH</th>\n",
       "      <td>0.293865</td>\n",
       "      <td>-0.370029</td>\n",
       "      <td>-0.478514</td>\n",
       "      <td>0.136148</td>\n",
       "      <td>-0.240387</td>\n",
       "      <td>0.415740</td>\n",
       "      <td>-0.104372</td>\n",
       "      <td>0.928619</td>\n",
       "      <td>0.327230</td>\n",
       "      <td>0.231686</td>\n",
       "      <td>1.000000</td>\n",
       "      <td>0.412158</td>\n",
       "    </tr>\n",
       "    <tr>\n",
       "      <th>CFR-FHN</th>\n",
       "      <td>0.352235</td>\n",
       "      <td>-0.212238</td>\n",
       "      <td>0.249647</td>\n",
       "      <td>0.119318</td>\n",
       "      <td>-0.241173</td>\n",
       "      <td>0.051103</td>\n",
       "      <td>-0.265447</td>\n",
       "      <td>0.719687</td>\n",
       "      <td>0.241719</td>\n",
       "      <td>0.262713</td>\n",
       "      <td>0.412158</td>\n",
       "      <td>1.000000</td>\n",
       "    </tr>\n",
       "  </tbody>\n",
       "</table>\n",
       "</div>"
      ],
      "text/plain": [
       "           bmi-gt      CJWR       WHR       PAR        ES       FWR       MEH  \\\n",
       "bmi-gt   1.000000 -0.069647 -0.059929  0.330815 -0.378954 -0.082912 -0.315590   \n",
       "CJWR    -0.069647  1.000000 -0.201328 -0.004232  0.117094 -0.206889  0.084572   \n",
       "WHR     -0.059929 -0.201328  1.000000  0.044923 -0.015337  0.193161 -0.140684   \n",
       "PAR      0.330815 -0.004232  0.044923  1.000000 -0.856587  0.069396 -0.767194   \n",
       "ES      -0.378954  0.117094 -0.015337 -0.856587  1.000000 -0.003026  0.865500   \n",
       "FWR     -0.082912 -0.206889  0.193161  0.069396 -0.003026  1.000000  0.021129   \n",
       "MEH     -0.315590  0.084572 -0.140684 -0.767194  0.865500  0.021129  1.000000   \n",
       "CFR      0.366255 -0.371631 -0.265097  0.152188 -0.280678  0.337352 -0.187004   \n",
       "CFR-HZJ  0.368220 -0.111612  0.018920  0.970882 -0.853234  0.210651 -0.750342   \n",
       "CFR-NSJ  0.364196 -0.084022  0.100985  0.980838 -0.854864  0.163404 -0.768098   \n",
       "CFR-FHH  0.293865 -0.370029 -0.478514  0.136148 -0.240387  0.415740 -0.104372   \n",
       "CFR-FHN  0.352235 -0.212238  0.249647  0.119318 -0.241173  0.051103 -0.265447   \n",
       "\n",
       "              CFR   CFR-HZJ   CFR-NSJ   CFR-FHH   CFR-FHN  \n",
       "bmi-gt   0.366255  0.368220  0.364196  0.293865  0.352235  \n",
       "CJWR    -0.371631 -0.111612 -0.084022 -0.370029 -0.212238  \n",
       "WHR     -0.265097  0.018920  0.100985 -0.478514  0.249647  \n",
       "PAR      0.152188  0.970882  0.980838  0.136148  0.119318  \n",
       "ES      -0.280678 -0.853234 -0.854864 -0.240387 -0.241173  \n",
       "FWR      0.337352  0.210651  0.163404  0.415740  0.051103  \n",
       "MEH     -0.187004 -0.750342 -0.768098 -0.104372 -0.265447  \n",
       "CFR      1.000000  0.347371  0.283202  0.928619  0.719687  \n",
       "CFR-HZJ  0.347371  1.000000  0.991806  0.327230  0.241719  \n",
       "CFR-NSJ  0.283202  0.991806  1.000000  0.231686  0.262713  \n",
       "CFR-FHH  0.928619  0.327230  0.231686  1.000000  0.412158  \n",
       "CFR-FHN  0.719687  0.241719  0.262713  0.412158  1.000000  "
      ]
     },
     "execution_count": 627,
     "metadata": {},
     "output_type": "execute_result"
    }
   ],
   "source": [
    "corrBMI = MLdf[['bmi-gt', 'CJWR', 'WHR', 'PAR', 'ES', 'FWR', 'MEH', 'CFR', 'CFR-HZJ', 'CFR-NSJ', 'CFR-FHH', 'CFR-FHN']]\n",
    "corrBMI.corr()"
   ]
  },
  {
   "cell_type": "code",
   "execution_count": 628,
   "metadata": {},
   "outputs": [
    {
     "data": {
      "image/png": "[encoded data removed]",
      "text/plain": [
       "<Figure size 360x360 with 2 Axes>"
      ]
     },
     "metadata": {
      "needs_background": "light"
     },
     "output_type": "display_data"
    }
   ],
   "source": [
    "ax = sns.heatmap(corrBMI.corr())"
   ]
  },
  {
   "cell_type": "code",
   "execution_count": 629,
   "metadata": {},
   "outputs": [],
   "source": [
    "X = MLdf[['CJWR', 'WHR', 'PAR', 'ES', 'FWR', 'MEH', 'CFR', 'CFR-HZJ', 'CFR-NSJ', 'CFR-FHH', 'CFR-FHN']]\n",
    "y = MLdf['class-6']\n",
    "yBMI = MLdf['bmi-gt']"
   ]
  },
  {
   "cell_type": "code",
   "execution_count": 630,
   "metadata": {},
   "outputs": [],
   "source": [
    "import random\n",
    "from sklearn.model_selection import train_test_split\n",
    "x_train, x_test, y_train, y_test = train_test_split(X, y, test_size=0.3, random_state=random.randint(0,99))\n",
    "x_trainBMI, x_testBMI, y_trainBMI, y_testBMI = train_test_split(X, yBMI, test_size=0.3, random_state=random.randint(0,99))"
   ]
  },
  {
   "cell_type": "code",
   "execution_count": 584,
   "metadata": {},
   "outputs": [
    {
     "name": "stdout",
     "output_type": "stream",
     "text": [
      "Fitting 2 folds for each of 192 candidates, totalling 384 fits\n"
     ]
    },
    {
     "name": "stderr",
     "output_type": "stream",
     "text": [
      "[Parallel(n_jobs=5)]: Using backend LokyBackend with 5 concurrent workers.\n",
      "[Parallel(n_jobs=5)]: Done  40 tasks      | elapsed:   14.7s\n",
      "[Parallel(n_jobs=5)]: Done 190 tasks      | elapsed:  1.1min\n",
      "[Parallel(n_jobs=5)]: Done 384 out of 384 | elapsed:  2.5min finished\n"
     ]
    },
    {
     "name": "stdout",
     "output_type": "stream",
     "text": [
      "0.5052358051230442\n",
      "{'colsample_bytree': 0.7, 'learning_rate': 0.07, 'max_depth': 6, 'min_child_weight': 6, 'n_estimators': 500, 'nthread': 4, 'objective': 'reg:squarederror', 'subsample': 0.9}\n"
     ]
    }
   ],
   "source": [
    "xgb1 = xgb.XGBRegressor()\n",
    "parameters = {'nthread':[4, 5], \\\n",
    "              'objective':['reg:squarederror'], \\\n",
    "              'learning_rate': [.03, .05, .07], \\\n",
    "              'max_depth': [5, 6, 7, 8], \\\n",
    "              'min_child_weight': [4, 6], \\\n",
    "              'subsample': [0.7, 0.9], \\\n",
    "              'colsample_bytree': [0.7, 0.9], \\\n",
    "              'n_estimators': [500]}\n",
    "\n",
    "xgb_grid = GridSearchCV(xgb1, \\\n",
    "                        parameters, \\\n",
    "                        cv = 2, \\\n",
    "                        n_jobs = 5, \\\n",
    "                        verbose=True)\n",
    "\n",
    "xgb_grid.fit(x_trainBMI, y_trainBMI)\n",
    "\n",
    "print(xgb_grid.best_score_)\n",
    "print(xgb_grid.best_params_)"
   ]
  },
  {
   "cell_type": "code",
   "execution_count": 631,
   "metadata": {},
   "outputs": [],
   "source": [
    "xg_reg = xgb.XGBRegressor(objective ='reg:squarederror', \\\n",
    "                          learning_rate = 0.07, \\\n",
    "                          max_depth = 6, \\\n",
    "                          subsample = 0.9, \\\n",
    "                          colsample_bytree = 0.7, \\\n",
    "                          n_estimators = 500)\n",
    "xg_reg.fit(x_trainBMI, y_trainBMI)\n",
    "preds = xg_reg.predict(x_testBMI)"
   ]
  },
  {
   "cell_type": "code",
   "execution_count": 632,
   "metadata": {},
   "outputs": [
    {
     "data": {
      "text/plain": [
       "Text(0, 0.5, 'Measured')"
      ]
     },
     "execution_count": 632,
     "metadata": {},
     "output_type": "execute_result"
    },
    {
     "data": {
      "image/png": "[encoded data removed]",
      "text/plain": [
       "<Figure size 360x360 with 1 Axes>"
      ]
     },
     "metadata": {
      "needs_background": "light"
     },
     "output_type": "display_data"
    }
   ],
   "source": [
    "plt.plot(preds, y_testBMI, 'ro')\n",
    "plt.plot([y_testBMI.min(), y_testBMI.max()], [y_testBMI.min(), y_testBMI.max()], 'k--', lw=2)\n",
    "plt.xlabel('Predicted')\n",
    "plt.ylabel('Measured')"
   ]
  },
  {
   "cell_type": "code",
   "execution_count": 633,
   "metadata": {},
   "outputs": [],
   "source": [
    "def mean_absolute_percentage_error(y_pred, y_true): \n",
    "    y_true, y_pred = np.array(y_true), np.array(y_pred)\n",
    "    return np.mean(np.abs((y_true - y_pred) / y_true)) * 100\n",
    "\n",
    "def rmse_percentage_error(y_pred, y_true):\n",
    "    rmspe = np.sqrt(np.mean(np.square(((y_true - y_pred) / y_true)), axis=0))\n",
    "    return rmspe * 100"
   ]
  },
  {
   "cell_type": "code",
   "execution_count": 635,
   "metadata": {},
   "outputs": [
    {
     "name": "stdout",
     "output_type": "stream",
     "text": [
      "The model performance for testing set\n",
      "--------------------------------------\n",
      "MAPE is 10.873593520543286%\n",
      "RMSPE is 15.228174871454259%\n",
      "MAE is 2.9560309277928836\n",
      "MSE is 16.701286169169727\n",
      "R2 score is 0.5186123944876665\n"
     ]
    }
   ],
   "source": [
    "mape = mean_absolute_percentage_error(y_testBMI, preds)\n",
    "rmspe = rmse_percentage_error(y_testBMI, preds)\n",
    "mae = metrics.mean_absolute_error(y_testBMI, preds)\n",
    "mse = metrics.mean_squared_error(y_testBMI, preds)\n",
    "r2 = metrics.r2_score(y_testBMI, preds)\n",
    "\n",
    "print(\"The model performance for testing set\")\n",
    "print(\"--------------------------------------\")\n",
    "print('MAPE is {}%'.format(mape))\n",
    "print('RMSPE is {}%'.format(rmspe))\n",
    "print('MAE is {}'.format(mae))\n",
    "print('MSE is {}'.format(mse))\n",
    "print('R2 score is {}'.format(r2))"
   ]
  },
  {
   "cell_type": "code",
   "execution_count": 644,
   "metadata": {},
   "outputs": [
    {
     "data": {
      "text/plain": [
       "247"
      ]
     },
     "execution_count": 644,
     "metadata": {},
     "output_type": "execute_result"
    }
   ],
   "source": [
    "results = (abs(preds - y_testBMI) / y_testBMI) * 100\n",
    "len(results)"
   ]
  },
  {
   "cell_type": "code",
   "execution_count": 646,
   "metadata": {},
   "outputs": [
    {
     "data": {
      "text/plain": [
       "(array([145.,  71.,  19.,   9.,   3.]),\n",
       " array([3.44762675e-03, 1.05951944e+01, 2.11869412e+01, 3.17786880e+01,\n",
       "        4.23704348e+01, 5.29621816e+01]),\n",
       " <a list of 5 Patch objects>)"
      ]
     },
     "execution_count": 646,
     "metadata": {},
     "output_type": "execute_result"
    },
    {
     "data": {
      "image/png": "[encoded data removed]",
      "text/plain": [
       "<Figure size 360x360 with 1 Axes>"
      ]
     },
     "metadata": {
      "needs_background": "light"
     },
     "output_type": "display_data"
    }
   ],
   "source": [
    "plt.hist(results, bins = 5)"
   ]
  },
  {
   "cell_type": "code",
   "execution_count": 589,
   "metadata": {},
   "outputs": [
    {
     "data": {
      "image/png": "[encoded data removed]",
      "text/plain": [
       "<Figure size 360x360 with 1 Axes>"
      ]
     },
     "metadata": {
      "needs_background": "light"
     },
     "output_type": "display_data"
    }
   ],
   "source": [
    "xgb.plot_importance(xg_reg)\n",
    "plt.rcParams['figure.figsize'] = [5, 5]\n",
    "plt.show()"
   ]
  }
 ],
 "metadata": {
  "kernelspec": {
   "display_name": "Python 3",
   "language": "python",
   "name": "python3"
  },
  "language_info": {
   "codemirror_mode": {
    "name": "ipython",
    "version": 3
   },
   "file_extension": ".py",
   "mimetype": "text/x-python",
   "name": "python",
   "nbconvert_exporter": "python",
   "pygments_lexer": "ipython3",
   "version": "3.7.7"
  }
 },
 "nbformat": 4,
 "nbformat_minor": 2
}
