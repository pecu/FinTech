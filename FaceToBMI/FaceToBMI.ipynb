{
 "cells": [
  {
   "cell_type": "code",
   "execution_count": 127,
   "metadata": {},
   "outputs": [],
   "source": [
    "import pandas as pd\n",
    "import seaborn as sns\n",
    "import matplotlib.pyplot as plt"
   ]
  },
  {
   "cell_type": "code",
   "execution_count": 128,
   "metadata": {},
   "outputs": [],
   "source": [
    "df = pd.read_csv('front_face.csv')  "
   ]
  },
  {
   "cell_type": "code",
   "execution_count": 129,
   "metadata": {},
   "outputs": [
    {
     "data": {
      "text/html": [
       "<div>\n",
       "<style scoped>\n",
       "    .dataframe tbody tr th:only-of-type {\n",
       "        vertical-align: middle;\n",
       "    }\n",
       "\n",
       "    .dataframe tbody tr th {\n",
       "        vertical-align: top;\n",
       "    }\n",
       "\n",
       "    .dataframe thead th {\n",
       "        text-align: right;\n",
       "    }\n",
       "</style>\n",
       "<table border=\"1\" class=\"dataframe\">\n",
       "  <thead>\n",
       "    <tr style=\"text-align: right;\">\n",
       "      <th></th>\n",
       "      <th>id</th>\n",
       "      <th>height</th>\n",
       "      <th>weight</th>\n",
       "      <th>bmi-gt</th>\n",
       "      <th>class-gt</th>\n",
       "      <th>CJWR</th>\n",
       "      <th>WHR</th>\n",
       "      <th>PAR</th>\n",
       "      <th>ES</th>\n",
       "      <th>FWR</th>\n",
       "      <th>MEH</th>\n",
       "      <th>CFR</th>\n",
       "      <th>CFR-HZJ</th>\n",
       "      <th>CFR-NSJ</th>\n",
       "      <th>CFR-FHH</th>\n",
       "      <th>CFR-FHN</th>\n",
       "    </tr>\n",
       "  </thead>\n",
       "  <tbody>\n",
       "    <tr>\n",
       "      <th>0</th>\n",
       "      <td>290079.jpg</td>\n",
       "      <td>1.65</td>\n",
       "      <td>97.52</td>\n",
       "      <td>35.82</td>\n",
       "      <td>d</td>\n",
       "      <td>1.192381</td>\n",
       "      <td>1.637814</td>\n",
       "      <td>0.020299</td>\n",
       "      <td>44.497728</td>\n",
       "      <td>1.377794</td>\n",
       "      <td>36.341513</td>\n",
       "      <td>0.432000</td>\n",
       "      <td>0.002400</td>\n",
       "      <td>0.002285</td>\n",
       "      <td>0.453731</td>\n",
       "      <td>0.411310</td>\n",
       "    </tr>\n",
       "    <tr>\n",
       "      <th>1</th>\n",
       "      <td>290167.jpg</td>\n",
       "      <td>1.57</td>\n",
       "      <td>68.04</td>\n",
       "      <td>27.60</td>\n",
       "      <td>c</td>\n",
       "      <td>1.224823</td>\n",
       "      <td>1.508974</td>\n",
       "      <td>0.023071</td>\n",
       "      <td>36.498993</td>\n",
       "      <td>1.232179</td>\n",
       "      <td>29.258188</td>\n",
       "      <td>0.419558</td>\n",
       "      <td>0.002497</td>\n",
       "      <td>0.002397</td>\n",
       "      <td>0.437032</td>\n",
       "      <td>0.402783</td>\n",
       "    </tr>\n",
       "    <tr>\n",
       "      <th>2</th>\n",
       "      <td>290173.jpg</td>\n",
       "      <td>1.63</td>\n",
       "      <td>62.14</td>\n",
       "      <td>23.39</td>\n",
       "      <td>b</td>\n",
       "      <td>1.237006</td>\n",
       "      <td>1.570872</td>\n",
       "      <td>0.028059</td>\n",
       "      <td>32.514632</td>\n",
       "      <td>1.301471</td>\n",
       "      <td>24.350046</td>\n",
       "      <td>0.345656</td>\n",
       "      <td>0.002542</td>\n",
       "      <td>0.002468</td>\n",
       "      <td>0.355904</td>\n",
       "      <td>0.335703</td>\n",
       "    </tr>\n",
       "    <tr>\n",
       "      <th>3</th>\n",
       "      <td>290248.jpg</td>\n",
       "      <td>1.75</td>\n",
       "      <td>72.57</td>\n",
       "      <td>23.70</td>\n",
       "      <td>b</td>\n",
       "      <td>1.198098</td>\n",
       "      <td>1.784604</td>\n",
       "      <td>0.019111</td>\n",
       "      <td>42.022874</td>\n",
       "      <td>1.233747</td>\n",
       "      <td>29.297992</td>\n",
       "      <td>0.385503</td>\n",
       "      <td>0.001918</td>\n",
       "      <td>0.002029</td>\n",
       "      <td>0.364339</td>\n",
       "      <td>0.407897</td>\n",
       "    </tr>\n",
       "    <tr>\n",
       "      <th>4</th>\n",
       "      <td>290250.jpg</td>\n",
       "      <td>1.88</td>\n",
       "      <td>94.35</td>\n",
       "      <td>26.69</td>\n",
       "      <td>c</td>\n",
       "      <td>1.233527</td>\n",
       "      <td>1.655420</td>\n",
       "      <td>0.020102</td>\n",
       "      <td>43.001689</td>\n",
       "      <td>1.278961</td>\n",
       "      <td>25.918256</td>\n",
       "      <td>0.405577</td>\n",
       "      <td>0.002134</td>\n",
       "      <td>0.002157</td>\n",
       "      <td>0.401264</td>\n",
       "      <td>0.409937</td>\n",
       "    </tr>\n",
       "  </tbody>\n",
       "</table>\n",
       "</div>"
      ],
      "text/plain": [
       "           id  height  weight  bmi-gt class-gt      CJWR       WHR       PAR  \\\n",
       "0  290079.jpg    1.65   97.52   35.82        d  1.192381  1.637814  0.020299   \n",
       "1  290167.jpg    1.57   68.04   27.60        c  1.224823  1.508974  0.023071   \n",
       "2  290173.jpg    1.63   62.14   23.39        b  1.237006  1.570872  0.028059   \n",
       "3  290248.jpg    1.75   72.57   23.70        b  1.198098  1.784604  0.019111   \n",
       "4  290250.jpg    1.88   94.35   26.69        c  1.233527  1.655420  0.020102   \n",
       "\n",
       "          ES       FWR        MEH       CFR   CFR-HZJ   CFR-NSJ   CFR-FHH  \\\n",
       "0  44.497728  1.377794  36.341513  0.432000  0.002400  0.002285  0.453731   \n",
       "1  36.498993  1.232179  29.258188  0.419558  0.002497  0.002397  0.437032   \n",
       "2  32.514632  1.301471  24.350046  0.345656  0.002542  0.002468  0.355904   \n",
       "3  42.022874  1.233747  29.297992  0.385503  0.001918  0.002029  0.364339   \n",
       "4  43.001689  1.278961  25.918256  0.405577  0.002134  0.002157  0.401264   \n",
       "\n",
       "    CFR-FHN  \n",
       "0  0.411310  \n",
       "1  0.402783  \n",
       "2  0.335703  \n",
       "3  0.407897  \n",
       "4  0.409937  "
      ]
     },
     "execution_count": 129,
     "metadata": {},
     "output_type": "execute_result"
    }
   ],
   "source": [
    "df.head()"
   ]
  },
  {
   "cell_type": "markdown",
   "metadata": {},
   "source": [
    "Ref. https://depart.femh.org.tw/dietary/3OPD/BMI.htm\n",
    "a: BMI＜18.5\n",
    "b: 18.5≦BMI＜24\n",
    "c: 24≦BMI＜27\n",
    "d: 27≦BMI＜30\n",
    "e: 30≦BMI＜35\n",
    "f: BMI≧35"
   ]
  },
  {
   "cell_type": "code",
   "execution_count": 151,
   "metadata": {},
   "outputs": [],
   "source": [
    "df['class-6'] = ''"
   ]
  },
  {
   "cell_type": "code",
   "execution_count": 152,
   "metadata": {},
   "outputs": [
    {
     "name": "stderr",
     "output_type": "stream",
     "text": [
      "c:\\python37\\lib\\site-packages\\ipykernel_launcher.py:1: SettingWithCopyWarning: \n",
      "A value is trying to be set on a copy of a slice from a DataFrame\n",
      "\n",
      "See the caveats in the documentation: https://pandas.pydata.org/pandas-docs/stable/user_guide/indexing.html#returning-a-view-versus-a-copy\n",
      "  \"\"\"Entry point for launching an IPython kernel.\n",
      "c:\\python37\\lib\\site-packages\\ipykernel_launcher.py:2: SettingWithCopyWarning: \n",
      "A value is trying to be set on a copy of a slice from a DataFrame\n",
      "\n",
      "See the caveats in the documentation: https://pandas.pydata.org/pandas-docs/stable/user_guide/indexing.html#returning-a-view-versus-a-copy\n",
      "  \n",
      "c:\\python37\\lib\\site-packages\\ipykernel_launcher.py:3: SettingWithCopyWarning: \n",
      "A value is trying to be set on a copy of a slice from a DataFrame\n",
      "\n",
      "See the caveats in the documentation: https://pandas.pydata.org/pandas-docs/stable/user_guide/indexing.html#returning-a-view-versus-a-copy\n",
      "  This is separate from the ipykernel package so we can avoid doing imports until\n",
      "c:\\python37\\lib\\site-packages\\ipykernel_launcher.py:4: SettingWithCopyWarning: \n",
      "A value is trying to be set on a copy of a slice from a DataFrame\n",
      "\n",
      "See the caveats in the documentation: https://pandas.pydata.org/pandas-docs/stable/user_guide/indexing.html#returning-a-view-versus-a-copy\n",
      "  after removing the cwd from sys.path.\n",
      "c:\\python37\\lib\\site-packages\\ipykernel_launcher.py:5: SettingWithCopyWarning: \n",
      "A value is trying to be set on a copy of a slice from a DataFrame\n",
      "\n",
      "See the caveats in the documentation: https://pandas.pydata.org/pandas-docs/stable/user_guide/indexing.html#returning-a-view-versus-a-copy\n",
      "  \"\"\"\n",
      "c:\\python37\\lib\\site-packages\\ipykernel_launcher.py:6: SettingWithCopyWarning: \n",
      "A value is trying to be set on a copy of a slice from a DataFrame\n",
      "\n",
      "See the caveats in the documentation: https://pandas.pydata.org/pandas-docs/stable/user_guide/indexing.html#returning-a-view-versus-a-copy\n",
      "  \n"
     ]
    },
    {
     "data": {
      "text/plain": [
       "id           object\n",
       "height      float64\n",
       "weight      float64\n",
       "bmi-gt      float64\n",
       "class-gt     object\n",
       "CJWR        float64\n",
       "WHR         float64\n",
       "PAR         float64\n",
       "ES          float64\n",
       "FWR         float64\n",
       "MEH         float64\n",
       "CFR         float64\n",
       "CFR-HZJ     float64\n",
       "CFR-NSJ     float64\n",
       "CFR-FHH     float64\n",
       "CFR-FHN     float64\n",
       "class-6        int8\n",
       "dtype: object"
      ]
     },
     "execution_count": 152,
     "metadata": {},
     "output_type": "execute_result"
    }
   ],
   "source": [
    "df['class-6'][df['bmi-gt'] < 18.5] = 0\n",
    "df['class-6'][df['bmi-gt'].between(18.5, 24)] = 1\n",
    "df['class-6'][df['bmi-gt'].between(24, 27)] = 2\n",
    "df['class-6'][df['bmi-gt'].between(27, 30)] = 3\n",
    "df['class-6'][df['bmi-gt'].between(30, 35)] = 4\n",
    "df['class-6'][df['bmi-gt'] > 35] = 5\n",
    "df['class-6'] = df['class-6'].astype('int8')\n",
    "df.dtypes"
   ]
  },
  {
   "cell_type": "code",
   "execution_count": 153,
   "metadata": {},
   "outputs": [
    {
     "data": {
      "text/plain": [
       "<matplotlib.axes._subplots.AxesSubplot at 0x24ef3aa7988>"
      ]
     },
     "execution_count": 153,
     "metadata": {},
     "output_type": "execute_result"
    },
    {
     "data": {
      "image/png": "[encoded data removed]",
      "text/plain": [
       "<Figure size 432x288 with 1 Axes>"
      ]
     },
     "metadata": {
      "needs_background": "light"
     },
     "output_type": "display_data"
    }
   ],
   "source": [
    "sns.countplot('class-6',data=df[['class-6']])"
   ]
  },
  {
   "cell_type": "code",
   "execution_count": 154,
   "metadata": {},
   "outputs": [],
   "source": [
    "class0Data = df[df['class-6'] == 0]\n",
    "class3Data = df[df['class-6'] == 3]\n",
    "class4Data = df[df['class-6'] == 4]\n",
    "class5Data = df[df['class-6'] == 5]"
   ]
  },
  {
   "cell_type": "code",
   "execution_count": 155,
   "metadata": {},
   "outputs": [
    {
     "data": {
      "text/html": [
       "<div>\n",
       "<style scoped>\n",
       "    .dataframe tbody tr th:only-of-type {\n",
       "        vertical-align: middle;\n",
       "    }\n",
       "\n",
       "    .dataframe tbody tr th {\n",
       "        vertical-align: top;\n",
       "    }\n",
       "\n",
       "    .dataframe thead th {\n",
       "        text-align: right;\n",
       "    }\n",
       "</style>\n",
       "<table border=\"1\" class=\"dataframe\">\n",
       "  <thead>\n",
       "    <tr style=\"text-align: right;\">\n",
       "      <th></th>\n",
       "      <th>id</th>\n",
       "      <th>height</th>\n",
       "      <th>weight</th>\n",
       "      <th>bmi-gt</th>\n",
       "      <th>class-gt</th>\n",
       "      <th>CJWR</th>\n",
       "      <th>WHR</th>\n",
       "      <th>PAR</th>\n",
       "      <th>ES</th>\n",
       "      <th>FWR</th>\n",
       "      <th>MEH</th>\n",
       "      <th>CFR</th>\n",
       "      <th>CFR-HZJ</th>\n",
       "      <th>CFR-NSJ</th>\n",
       "      <th>CFR-FHH</th>\n",
       "      <th>CFR-FHN</th>\n",
       "      <th>class-6</th>\n",
       "    </tr>\n",
       "  </thead>\n",
       "  <tbody>\n",
       "    <tr>\n",
       "      <th>0</th>\n",
       "      <td>290079.jpg</td>\n",
       "      <td>1.65</td>\n",
       "      <td>97.52</td>\n",
       "      <td>35.82</td>\n",
       "      <td>d</td>\n",
       "      <td>1.192381</td>\n",
       "      <td>1.637814</td>\n",
       "      <td>0.020299</td>\n",
       "      <td>44.497728</td>\n",
       "      <td>1.377794</td>\n",
       "      <td>36.341513</td>\n",
       "      <td>0.432000</td>\n",
       "      <td>0.002400</td>\n",
       "      <td>0.002285</td>\n",
       "      <td>0.453731</td>\n",
       "      <td>0.411310</td>\n",
       "      <td>5</td>\n",
       "    </tr>\n",
       "    <tr>\n",
       "      <th>1</th>\n",
       "      <td>290167.jpg</td>\n",
       "      <td>1.57</td>\n",
       "      <td>68.04</td>\n",
       "      <td>27.60</td>\n",
       "      <td>c</td>\n",
       "      <td>1.224823</td>\n",
       "      <td>1.508974</td>\n",
       "      <td>0.023071</td>\n",
       "      <td>36.498993</td>\n",
       "      <td>1.232179</td>\n",
       "      <td>29.258188</td>\n",
       "      <td>0.419558</td>\n",
       "      <td>0.002497</td>\n",
       "      <td>0.002397</td>\n",
       "      <td>0.437032</td>\n",
       "      <td>0.402783</td>\n",
       "      <td>3</td>\n",
       "    </tr>\n",
       "    <tr>\n",
       "      <th>2</th>\n",
       "      <td>290173.jpg</td>\n",
       "      <td>1.63</td>\n",
       "      <td>62.14</td>\n",
       "      <td>23.39</td>\n",
       "      <td>b</td>\n",
       "      <td>1.237006</td>\n",
       "      <td>1.570872</td>\n",
       "      <td>0.028059</td>\n",
       "      <td>32.514632</td>\n",
       "      <td>1.301471</td>\n",
       "      <td>24.350046</td>\n",
       "      <td>0.345656</td>\n",
       "      <td>0.002542</td>\n",
       "      <td>0.002468</td>\n",
       "      <td>0.355904</td>\n",
       "      <td>0.335703</td>\n",
       "      <td>1</td>\n",
       "    </tr>\n",
       "    <tr>\n",
       "      <th>3</th>\n",
       "      <td>290248.jpg</td>\n",
       "      <td>1.75</td>\n",
       "      <td>72.57</td>\n",
       "      <td>23.70</td>\n",
       "      <td>b</td>\n",
       "      <td>1.198098</td>\n",
       "      <td>1.784604</td>\n",
       "      <td>0.019111</td>\n",
       "      <td>42.022874</td>\n",
       "      <td>1.233747</td>\n",
       "      <td>29.297992</td>\n",
       "      <td>0.385503</td>\n",
       "      <td>0.001918</td>\n",
       "      <td>0.002029</td>\n",
       "      <td>0.364339</td>\n",
       "      <td>0.407897</td>\n",
       "      <td>1</td>\n",
       "    </tr>\n",
       "    <tr>\n",
       "      <th>4</th>\n",
       "      <td>290250.jpg</td>\n",
       "      <td>1.88</td>\n",
       "      <td>94.35</td>\n",
       "      <td>26.69</td>\n",
       "      <td>c</td>\n",
       "      <td>1.233527</td>\n",
       "      <td>1.655420</td>\n",
       "      <td>0.020102</td>\n",
       "      <td>43.001689</td>\n",
       "      <td>1.278961</td>\n",
       "      <td>25.918256</td>\n",
       "      <td>0.405577</td>\n",
       "      <td>0.002134</td>\n",
       "      <td>0.002157</td>\n",
       "      <td>0.401264</td>\n",
       "      <td>0.409937</td>\n",
       "      <td>2</td>\n",
       "    </tr>\n",
       "    <tr>\n",
       "      <th>...</th>\n",
       "      <td>...</td>\n",
       "      <td>...</td>\n",
       "      <td>...</td>\n",
       "      <td>...</td>\n",
       "      <td>...</td>\n",
       "      <td>...</td>\n",
       "      <td>...</td>\n",
       "      <td>...</td>\n",
       "      <td>...</td>\n",
       "      <td>...</td>\n",
       "      <td>...</td>\n",
       "      <td>...</td>\n",
       "      <td>...</td>\n",
       "      <td>...</td>\n",
       "      <td>...</td>\n",
       "      <td>...</td>\n",
       "      <td>...</td>\n",
       "    </tr>\n",
       "    <tr>\n",
       "      <th>501</th>\n",
       "      <td>293221.jpg</td>\n",
       "      <td>1.78</td>\n",
       "      <td>129.27</td>\n",
       "      <td>40.80</td>\n",
       "      <td>d</td>\n",
       "      <td>1.156078</td>\n",
       "      <td>1.788453</td>\n",
       "      <td>0.019551</td>\n",
       "      <td>42.001724</td>\n",
       "      <td>1.514333</td>\n",
       "      <td>29.215481</td>\n",
       "      <td>0.460737</td>\n",
       "      <td>0.002632</td>\n",
       "      <td>0.002531</td>\n",
       "      <td>0.479212</td>\n",
       "      <td>0.442975</td>\n",
       "      <td>5</td>\n",
       "    </tr>\n",
       "    <tr>\n",
       "      <th>502</th>\n",
       "      <td>294153.jpg</td>\n",
       "      <td>1.78</td>\n",
       "      <td>117.93</td>\n",
       "      <td>37.22</td>\n",
       "      <td>d</td>\n",
       "      <td>1.186121</td>\n",
       "      <td>1.638275</td>\n",
       "      <td>0.024344</td>\n",
       "      <td>33.502174</td>\n",
       "      <td>1.211473</td>\n",
       "      <td>27.366538</td>\n",
       "      <td>0.396775</td>\n",
       "      <td>0.002542</td>\n",
       "      <td>0.002558</td>\n",
       "      <td>0.394235</td>\n",
       "      <td>0.399331</td>\n",
       "      <td>5</td>\n",
       "    </tr>\n",
       "    <tr>\n",
       "      <th>503</th>\n",
       "      <td>294917.jpg</td>\n",
       "      <td>1.88</td>\n",
       "      <td>142.88</td>\n",
       "      <td>40.43</td>\n",
       "      <td>d</td>\n",
       "      <td>1.175724</td>\n",
       "      <td>1.521048</td>\n",
       "      <td>0.019517</td>\n",
       "      <td>44.997767</td>\n",
       "      <td>1.387978</td>\n",
       "      <td>30.858827</td>\n",
       "      <td>0.461651</td>\n",
       "      <td>0.002523</td>\n",
       "      <td>0.002274</td>\n",
       "      <td>0.512130</td>\n",
       "      <td>0.416148</td>\n",
       "      <td>5</td>\n",
       "    </tr>\n",
       "    <tr>\n",
       "      <th>504</th>\n",
       "      <td>295948.jpg</td>\n",
       "      <td>1.70</td>\n",
       "      <td>111.13</td>\n",
       "      <td>38.45</td>\n",
       "      <td>d</td>\n",
       "      <td>1.176879</td>\n",
       "      <td>1.628805</td>\n",
       "      <td>0.019399</td>\n",
       "      <td>43.986691</td>\n",
       "      <td>1.367659</td>\n",
       "      <td>34.198932</td>\n",
       "      <td>0.429845</td>\n",
       "      <td>0.002323</td>\n",
       "      <td>0.002216</td>\n",
       "      <td>0.450731</td>\n",
       "      <td>0.409928</td>\n",
       "      <td>5</td>\n",
       "    </tr>\n",
       "    <tr>\n",
       "      <th>505</th>\n",
       "      <td>296005.jpg</td>\n",
       "      <td>1.68</td>\n",
       "      <td>99.79</td>\n",
       "      <td>35.36</td>\n",
       "      <td>d</td>\n",
       "      <td>1.278101</td>\n",
       "      <td>1.669667</td>\n",
       "      <td>0.021162</td>\n",
       "      <td>42.510986</td>\n",
       "      <td>1.313154</td>\n",
       "      <td>28.771729</td>\n",
       "      <td>0.379358</td>\n",
       "      <td>0.002084</td>\n",
       "      <td>0.002119</td>\n",
       "      <td>0.373135</td>\n",
       "      <td>0.385685</td>\n",
       "      <td>5</td>\n",
       "    </tr>\n",
       "  </tbody>\n",
       "</table>\n",
       "<p>506 rows × 17 columns</p>\n",
       "</div>"
      ],
      "text/plain": [
       "             id  height  weight  bmi-gt class-gt      CJWR       WHR  \\\n",
       "0    290079.jpg    1.65   97.52   35.82        d  1.192381  1.637814   \n",
       "1    290167.jpg    1.57   68.04   27.60        c  1.224823  1.508974   \n",
       "2    290173.jpg    1.63   62.14   23.39        b  1.237006  1.570872   \n",
       "3    290248.jpg    1.75   72.57   23.70        b  1.198098  1.784604   \n",
       "4    290250.jpg    1.88   94.35   26.69        c  1.233527  1.655420   \n",
       "..          ...     ...     ...     ...      ...       ...       ...   \n",
       "501  293221.jpg    1.78  129.27   40.80        d  1.156078  1.788453   \n",
       "502  294153.jpg    1.78  117.93   37.22        d  1.186121  1.638275   \n",
       "503  294917.jpg    1.88  142.88   40.43        d  1.175724  1.521048   \n",
       "504  295948.jpg    1.70  111.13   38.45        d  1.176879  1.628805   \n",
       "505  296005.jpg    1.68   99.79   35.36        d  1.278101  1.669667   \n",
       "\n",
       "          PAR         ES       FWR        MEH       CFR   CFR-HZJ   CFR-NSJ  \\\n",
       "0    0.020299  44.497728  1.377794  36.341513  0.432000  0.002400  0.002285   \n",
       "1    0.023071  36.498993  1.232179  29.258188  0.419558  0.002497  0.002397   \n",
       "2    0.028059  32.514632  1.301471  24.350046  0.345656  0.002542  0.002468   \n",
       "3    0.019111  42.022874  1.233747  29.297992  0.385503  0.001918  0.002029   \n",
       "4    0.020102  43.001689  1.278961  25.918256  0.405577  0.002134  0.002157   \n",
       "..        ...        ...       ...        ...       ...       ...       ...   \n",
       "501  0.019551  42.001724  1.514333  29.215481  0.460737  0.002632  0.002531   \n",
       "502  0.024344  33.502174  1.211473  27.366538  0.396775  0.002542  0.002558   \n",
       "503  0.019517  44.997767  1.387978  30.858827  0.461651  0.002523  0.002274   \n",
       "504  0.019399  43.986691  1.367659  34.198932  0.429845  0.002323  0.002216   \n",
       "505  0.021162  42.510986  1.313154  28.771729  0.379358  0.002084  0.002119   \n",
       "\n",
       "      CFR-FHH   CFR-FHN  class-6  \n",
       "0    0.453731  0.411310        5  \n",
       "1    0.437032  0.402783        3  \n",
       "2    0.355904  0.335703        1  \n",
       "3    0.364339  0.407897        1  \n",
       "4    0.401264  0.409937        2  \n",
       "..        ...       ...      ...  \n",
       "501  0.479212  0.442975        5  \n",
       "502  0.394235  0.399331        5  \n",
       "503  0.512130  0.416148        5  \n",
       "504  0.450731  0.409928        5  \n",
       "505  0.373135  0.385685        5  \n",
       "\n",
       "[506 rows x 17 columns]"
      ]
     },
     "execution_count": 155,
     "metadata": {},
     "output_type": "execute_result"
    }
   ],
   "source": [
    "newdf = df.append([class0Data]*40,ignore_index=True)\n",
    "newdf = newdf.append([class3Data]*1,ignore_index=True)\n",
    "newdf = newdf.append([class4Data]*2,ignore_index=True)\n",
    "newdf = newdf.append([class5Data]*10,ignore_index=True)\n",
    "newdf"
   ]
  },
  {
   "cell_type": "code",
   "execution_count": 156,
   "metadata": {},
   "outputs": [
    {
     "data": {
      "text/plain": [
       "<matplotlib.axes._subplots.AxesSubplot at 0x24ef3afb8c8>"
      ]
     },
     "execution_count": 156,
     "metadata": {},
     "output_type": "execute_result"
    },
    {
     "data": {
      "image/png": "[encoded data removed]",
      "text/plain": [
       "<Figure size 432x288 with 1 Axes>"
      ]
     },
     "metadata": {
      "needs_background": "light"
     },
     "output_type": "display_data"
    }
   ],
   "source": [
    "sns.countplot('class-6',data=newdf[['class-6']])"
   ]
  },
  {
   "cell_type": "code",
   "execution_count": 157,
   "metadata": {},
   "outputs": [],
   "source": [
    "X = newdf[['CJWR', 'WHR', 'PAR', 'ES', 'FWR', 'MEH', 'CFR', 'CFR-HZJ', 'CFR-NSJ', 'CFR-FHH', 'CFR-FHN']]\n",
    "from sklearn.decomposition import PCA\n",
    "pca = PCA(n_components=2)\n",
    "principalComponents = pca.fit_transform(X)\n",
    "principalDf = pd.DataFrame(data = principalComponents\n",
    "             , columns = ['principal component 1', 'principal component 2'])"
   ]
  },
  {
   "cell_type": "code",
   "execution_count": 158,
   "metadata": {},
   "outputs": [
    {
     "data": {
      "text/html": [
       "<div>\n",
       "<style scoped>\n",
       "    .dataframe tbody tr th:only-of-type {\n",
       "        vertical-align: middle;\n",
       "    }\n",
       "\n",
       "    .dataframe tbody tr th {\n",
       "        vertical-align: top;\n",
       "    }\n",
       "\n",
       "    .dataframe thead th {\n",
       "        text-align: right;\n",
       "    }\n",
       "</style>\n",
       "<table border=\"1\" class=\"dataframe\">\n",
       "  <thead>\n",
       "    <tr style=\"text-align: right;\">\n",
       "      <th></th>\n",
       "      <th>principal component 1</th>\n",
       "      <th>principal component 2</th>\n",
       "      <th>class-6</th>\n",
       "    </tr>\n",
       "  </thead>\n",
       "  <tbody>\n",
       "    <tr>\n",
       "      <th>0</th>\n",
       "      <td>9.911989</td>\n",
       "      <td>1.091862</td>\n",
       "      <td>5</td>\n",
       "    </tr>\n",
       "    <tr>\n",
       "      <th>1</th>\n",
       "      <td>-0.753845</td>\n",
       "      <td>1.731373</td>\n",
       "      <td>3</td>\n",
       "    </tr>\n",
       "    <tr>\n",
       "      <th>2</th>\n",
       "      <td>-7.040821</td>\n",
       "      <td>1.071808</td>\n",
       "      <td>1</td>\n",
       "    </tr>\n",
       "    <tr>\n",
       "      <th>3</th>\n",
       "      <td>3.183978</td>\n",
       "      <td>-2.145593</td>\n",
       "      <td>1</td>\n",
       "    </tr>\n",
       "    <tr>\n",
       "      <th>4</th>\n",
       "      <td>1.488852</td>\n",
       "      <td>-5.227722</td>\n",
       "      <td>2</td>\n",
       "    </tr>\n",
       "  </tbody>\n",
       "</table>\n",
       "</div>"
      ],
      "text/plain": [
       "   principal component 1  principal component 2  class-6\n",
       "0               9.911989               1.091862        5\n",
       "1              -0.753845               1.731373        3\n",
       "2              -7.040821               1.071808        1\n",
       "3               3.183978              -2.145593        1\n",
       "4               1.488852              -5.227722        2"
      ]
     },
     "execution_count": 158,
     "metadata": {},
     "output_type": "execute_result"
    }
   ],
   "source": [
    "finalDf = pd.concat([principalDf, newdf[['class-6']]], axis = 1)\n",
    "finalDf.head()"
   ]
  },
  {
   "cell_type": "code",
   "execution_count": 159,
   "metadata": {},
   "outputs": [
    {
     "data": {
      "image/png": "[encoded data removed]",
      "text/plain": [
       "<Figure size 576x576 with 1 Axes>"
      ]
     },
     "metadata": {
      "needs_background": "light"
     },
     "output_type": "display_data"
    }
   ],
   "source": [
    "fig = plt.figure(figsize = (8,8))\n",
    "ax = fig.add_subplot(1,1,1) \n",
    "ax.set_xlabel('Principal Component 1', fontsize = 15)\n",
    "ax.set_ylabel('Principal Component 2', fontsize = 15)\n",
    "ax.set_title('2 component PCA', fontsize = 20)\n",
    "targets = [0, 1, 2, 3, 4, 5]\n",
    "colors = ['r', 'g', 'b', 'c', 'm', 'y']\n",
    "for target, color in zip(targets,colors):\n",
    "    indicesToKeep = finalDf['class-6'] == target\n",
    "    ax.scatter(finalDf.loc[indicesToKeep, 'principal component 1']\n",
    "               , finalDf.loc[indicesToKeep, 'principal component 2']\n",
    "               , c = color\n",
    "               , s = 50)\n",
    "ax.legend(targets)\n",
    "ax.grid()"
   ]
  },
  {
   "cell_type": "code",
   "execution_count": 160,
   "metadata": {},
   "outputs": [],
   "source": [
    "from sklearn import svm, metrics\n",
    "from sklearn.metrics import confusion_matrix, classification_report\n",
    "from sklearn.model_selection import GridSearchCV"
   ]
  },
  {
   "cell_type": "code",
   "execution_count": 161,
   "metadata": {},
   "outputs": [
    {
     "data": {
      "text/html": [
       "<div>\n",
       "<style scoped>\n",
       "    .dataframe tbody tr th:only-of-type {\n",
       "        vertical-align: middle;\n",
       "    }\n",
       "\n",
       "    .dataframe tbody tr th {\n",
       "        vertical-align: top;\n",
       "    }\n",
       "\n",
       "    .dataframe thead th {\n",
       "        text-align: right;\n",
       "    }\n",
       "</style>\n",
       "<table border=\"1\" class=\"dataframe\">\n",
       "  <thead>\n",
       "    <tr style=\"text-align: right;\">\n",
       "      <th></th>\n",
       "      <th>bmi-gt</th>\n",
       "      <th>CJWR</th>\n",
       "      <th>WHR</th>\n",
       "      <th>PAR</th>\n",
       "      <th>ES</th>\n",
       "      <th>FWR</th>\n",
       "      <th>MEH</th>\n",
       "      <th>CFR</th>\n",
       "      <th>CFR-HZJ</th>\n",
       "      <th>CFR-NSJ</th>\n",
       "      <th>CFR-FHH</th>\n",
       "      <th>CFR-FHN</th>\n",
       "    </tr>\n",
       "  </thead>\n",
       "  <tbody>\n",
       "    <tr>\n",
       "      <th>bmi-gt</th>\n",
       "      <td>1.000000</td>\n",
       "      <td>-0.130262</td>\n",
       "      <td>0.005940</td>\n",
       "      <td>-0.315105</td>\n",
       "      <td>0.286593</td>\n",
       "      <td>0.355969</td>\n",
       "      <td>0.319473</td>\n",
       "      <td>0.339309</td>\n",
       "      <td>0.009032</td>\n",
       "      <td>-0.068920</td>\n",
       "      <td>0.311475</td>\n",
       "      <td>0.286841</td>\n",
       "    </tr>\n",
       "    <tr>\n",
       "      <th>CJWR</th>\n",
       "      <td>-0.130262</td>\n",
       "      <td>1.000000</td>\n",
       "      <td>-0.033360</td>\n",
       "      <td>0.005386</td>\n",
       "      <td>0.164934</td>\n",
       "      <td>-0.004208</td>\n",
       "      <td>0.062193</td>\n",
       "      <td>-0.469583</td>\n",
       "      <td>-0.293641</td>\n",
       "      <td>-0.226350</td>\n",
       "      <td>-0.438733</td>\n",
       "      <td>-0.377574</td>\n",
       "    </tr>\n",
       "    <tr>\n",
       "      <th>WHR</th>\n",
       "      <td>0.005940</td>\n",
       "      <td>-0.033360</td>\n",
       "      <td>1.000000</td>\n",
       "      <td>-0.106406</td>\n",
       "      <td>0.194762</td>\n",
       "      <td>0.270296</td>\n",
       "      <td>-0.007847</td>\n",
       "      <td>-0.296246</td>\n",
       "      <td>-0.186099</td>\n",
       "      <td>0.049496</td>\n",
       "      <td>-0.501993</td>\n",
       "      <td>0.230582</td>\n",
       "    </tr>\n",
       "    <tr>\n",
       "      <th>PAR</th>\n",
       "      <td>-0.315105</td>\n",
       "      <td>0.005386</td>\n",
       "      <td>-0.106406</td>\n",
       "      <td>1.000000</td>\n",
       "      <td>-0.897335</td>\n",
       "      <td>-0.121485</td>\n",
       "      <td>-0.649759</td>\n",
       "      <td>-0.146564</td>\n",
       "      <td>0.754278</td>\n",
       "      <td>0.836679</td>\n",
       "      <td>-0.072929</td>\n",
       "      <td>-0.237410</td>\n",
       "    </tr>\n",
       "    <tr>\n",
       "      <th>ES</th>\n",
       "      <td>0.286593</td>\n",
       "      <td>0.164934</td>\n",
       "      <td>0.194762</td>\n",
       "      <td>-0.897335</td>\n",
       "      <td>1.000000</td>\n",
       "      <td>0.269519</td>\n",
       "      <td>0.664289</td>\n",
       "      <td>0.001774</td>\n",
       "      <td>-0.713185</td>\n",
       "      <td>-0.772958</td>\n",
       "      <td>-0.043792</td>\n",
       "      <td>0.082869</td>\n",
       "    </tr>\n",
       "    <tr>\n",
       "      <th>FWR</th>\n",
       "      <td>0.355969</td>\n",
       "      <td>-0.004208</td>\n",
       "      <td>0.270296</td>\n",
       "      <td>-0.121485</td>\n",
       "      <td>0.269519</td>\n",
       "      <td>1.000000</td>\n",
       "      <td>0.202981</td>\n",
       "      <td>0.417842</td>\n",
       "      <td>0.343284</td>\n",
       "      <td>0.255549</td>\n",
       "      <td>0.418566</td>\n",
       "      <td>0.270339</td>\n",
       "    </tr>\n",
       "    <tr>\n",
       "      <th>MEH</th>\n",
       "      <td>0.319473</td>\n",
       "      <td>0.062193</td>\n",
       "      <td>-0.007847</td>\n",
       "      <td>-0.649759</td>\n",
       "      <td>0.664289</td>\n",
       "      <td>0.202981</td>\n",
       "      <td>1.000000</td>\n",
       "      <td>0.031951</td>\n",
       "      <td>-0.490117</td>\n",
       "      <td>-0.586765</td>\n",
       "      <td>0.056995</td>\n",
       "      <td>-0.041024</td>\n",
       "    </tr>\n",
       "    <tr>\n",
       "      <th>CFR</th>\n",
       "      <td>0.339309</td>\n",
       "      <td>-0.469583</td>\n",
       "      <td>-0.296246</td>\n",
       "      <td>-0.146564</td>\n",
       "      <td>0.001774</td>\n",
       "      <td>0.417842</td>\n",
       "      <td>0.031951</td>\n",
       "      <td>1.000000</td>\n",
       "      <td>0.494929</td>\n",
       "      <td>0.307984</td>\n",
       "      <td>0.950377</td>\n",
       "      <td>0.765823</td>\n",
       "    </tr>\n",
       "    <tr>\n",
       "      <th>CFR-HZJ</th>\n",
       "      <td>0.009032</td>\n",
       "      <td>-0.293641</td>\n",
       "      <td>-0.186099</td>\n",
       "      <td>0.754278</td>\n",
       "      <td>-0.713185</td>\n",
       "      <td>0.343284</td>\n",
       "      <td>-0.490117</td>\n",
       "      <td>0.494929</td>\n",
       "      <td>1.000000</td>\n",
       "      <td>0.947612</td>\n",
       "      <td>0.537370</td>\n",
       "      <td>0.251301</td>\n",
       "    </tr>\n",
       "    <tr>\n",
       "      <th>CFR-NSJ</th>\n",
       "      <td>-0.068920</td>\n",
       "      <td>-0.226350</td>\n",
       "      <td>0.049496</td>\n",
       "      <td>0.836679</td>\n",
       "      <td>-0.772958</td>\n",
       "      <td>0.255549</td>\n",
       "      <td>-0.586765</td>\n",
       "      <td>0.307984</td>\n",
       "      <td>0.947612</td>\n",
       "      <td>1.000000</td>\n",
       "      <td>0.286143</td>\n",
       "      <td>0.260955</td>\n",
       "    </tr>\n",
       "    <tr>\n",
       "      <th>CFR-FHH</th>\n",
       "      <td>0.311475</td>\n",
       "      <td>-0.438733</td>\n",
       "      <td>-0.501993</td>\n",
       "      <td>-0.072929</td>\n",
       "      <td>-0.043792</td>\n",
       "      <td>0.418566</td>\n",
       "      <td>0.056995</td>\n",
       "      <td>0.950377</td>\n",
       "      <td>0.537370</td>\n",
       "      <td>0.286143</td>\n",
       "      <td>1.000000</td>\n",
       "      <td>0.528689</td>\n",
       "    </tr>\n",
       "    <tr>\n",
       "      <th>CFR-FHN</th>\n",
       "      <td>0.286841</td>\n",
       "      <td>-0.377574</td>\n",
       "      <td>0.230582</td>\n",
       "      <td>-0.237410</td>\n",
       "      <td>0.082869</td>\n",
       "      <td>0.270339</td>\n",
       "      <td>-0.041024</td>\n",
       "      <td>0.765823</td>\n",
       "      <td>0.251301</td>\n",
       "      <td>0.260955</td>\n",
       "      <td>0.528689</td>\n",
       "      <td>1.000000</td>\n",
       "    </tr>\n",
       "  </tbody>\n",
       "</table>\n",
       "</div>"
      ],
      "text/plain": [
       "           bmi-gt      CJWR       WHR       PAR        ES       FWR       MEH  \\\n",
       "bmi-gt   1.000000 -0.130262  0.005940 -0.315105  0.286593  0.355969  0.319473   \n",
       "CJWR    -0.130262  1.000000 -0.033360  0.005386  0.164934 -0.004208  0.062193   \n",
       "WHR      0.005940 -0.033360  1.000000 -0.106406  0.194762  0.270296 -0.007847   \n",
       "PAR     -0.315105  0.005386 -0.106406  1.000000 -0.897335 -0.121485 -0.649759   \n",
       "ES       0.286593  0.164934  0.194762 -0.897335  1.000000  0.269519  0.664289   \n",
       "FWR      0.355969 -0.004208  0.270296 -0.121485  0.269519  1.000000  0.202981   \n",
       "MEH      0.319473  0.062193 -0.007847 -0.649759  0.664289  0.202981  1.000000   \n",
       "CFR      0.339309 -0.469583 -0.296246 -0.146564  0.001774  0.417842  0.031951   \n",
       "CFR-HZJ  0.009032 -0.293641 -0.186099  0.754278 -0.713185  0.343284 -0.490117   \n",
       "CFR-NSJ -0.068920 -0.226350  0.049496  0.836679 -0.772958  0.255549 -0.586765   \n",
       "CFR-FHH  0.311475 -0.438733 -0.501993 -0.072929 -0.043792  0.418566  0.056995   \n",
       "CFR-FHN  0.286841 -0.377574  0.230582 -0.237410  0.082869  0.270339 -0.041024   \n",
       "\n",
       "              CFR   CFR-HZJ   CFR-NSJ   CFR-FHH   CFR-FHN  \n",
       "bmi-gt   0.339309  0.009032 -0.068920  0.311475  0.286841  \n",
       "CJWR    -0.469583 -0.293641 -0.226350 -0.438733 -0.377574  \n",
       "WHR     -0.296246 -0.186099  0.049496 -0.501993  0.230582  \n",
       "PAR     -0.146564  0.754278  0.836679 -0.072929 -0.237410  \n",
       "ES       0.001774 -0.713185 -0.772958 -0.043792  0.082869  \n",
       "FWR      0.417842  0.343284  0.255549  0.418566  0.270339  \n",
       "MEH      0.031951 -0.490117 -0.586765  0.056995 -0.041024  \n",
       "CFR      1.000000  0.494929  0.307984  0.950377  0.765823  \n",
       "CFR-HZJ  0.494929  1.000000  0.947612  0.537370  0.251301  \n",
       "CFR-NSJ  0.307984  0.947612  1.000000  0.286143  0.260955  \n",
       "CFR-FHH  0.950377  0.537370  0.286143  1.000000  0.528689  \n",
       "CFR-FHN  0.765823  0.251301  0.260955  0.528689  1.000000  "
      ]
     },
     "execution_count": 161,
     "metadata": {},
     "output_type": "execute_result"
    }
   ],
   "source": [
    "corrBMI = newdf[['bmi-gt', 'CJWR', 'WHR', 'PAR', 'ES', 'FWR', 'MEH', 'CFR', 'CFR-HZJ', 'CFR-NSJ', 'CFR-FHH', 'CFR-FHN']]\n",
    "corrBMI.corr()"
   ]
  },
  {
   "cell_type": "code",
   "execution_count": 162,
   "metadata": {},
   "outputs": [
    {
     "data": {
      "image/png": "[encoded data removed]",
      "text/plain": [
       "<Figure size 432x288 with 2 Axes>"
      ]
     },
     "metadata": {
      "needs_background": "light"
     },
     "output_type": "display_data"
    }
   ],
   "source": [
    "ax = sns.heatmap(corrBMI.corr())"
   ]
  },
  {
   "cell_type": "code",
   "execution_count": 163,
   "metadata": {},
   "outputs": [],
   "source": [
    "X = newdf[['PAR', 'ES', 'FWR', 'MEH', 'CFR', 'CFR-FHH', 'CFR-FHN']]\n",
    "y = newdf['class-6']\n",
    "yBMI = newdf['bmi-gt']"
   ]
  },
  {
   "cell_type": "code",
   "execution_count": 164,
   "metadata": {},
   "outputs": [
    {
     "name": "stdout",
     "output_type": "stream",
     "text": [
      "Fitting 5 folds for each of 12 candidates, totalling 60 fits\n",
      "[CV] C=1, gamma=1, kernel=rbf ........................................\n",
      "[CV] ............ C=1, gamma=1, kernel=rbf, score=0.667, total=   0.0s\n",
      "[CV] C=1, gamma=1, kernel=rbf ........................................\n",
      "[CV] ............ C=1, gamma=1, kernel=rbf, score=0.723, total=   0.0s\n",
      "[CV] C=1, gamma=1, kernel=rbf ........................................\n",
      "[CV] ............ C=1, gamma=1, kernel=rbf, score=0.673, total=   0.0s\n",
      "[CV] C=1, gamma=1, kernel=rbf ........................................\n",
      "[CV] ............ C=1, gamma=1, kernel=rbf, score=0.673, total=   0.0s\n",
      "[CV] C=1, gamma=1, kernel=rbf ........................................\n",
      "[CV] ............ C=1, gamma=1, kernel=rbf, score=0.683, total=   0.0s\n",
      "[CV] C=1, gamma=10, kernel=rbf .......................................\n",
      "[CV] ........... C=1, gamma=10, kernel=rbf, score=0.843, total=   0.0s\n",
      "[CV] C=1, gamma=10, kernel=rbf .......................................\n",
      "[CV] ........... C=1, gamma=10, kernel=rbf, score=0.802, total=   0.0s\n",
      "[CV] C=1, gamma=10, kernel=rbf .......................................\n",
      "[CV] ........... C=1, gamma=10, kernel=rbf, score=0.812, total=   0.0s\n",
      "[CV] C=1, gamma=10, kernel=rbf .......................................\n"
     ]
    },
    {
     "name": "stderr",
     "output_type": "stream",
     "text": [
      "[Parallel(n_jobs=1)]: Using backend SequentialBackend with 1 concurrent workers.\n",
      "[Parallel(n_jobs=1)]: Done   1 out of   1 | elapsed:    0.0s remaining:    0.0s\n",
      "[Parallel(n_jobs=1)]: Done   2 out of   2 | elapsed:    0.0s remaining:    0.0s\n"
     ]
    },
    {
     "name": "stdout",
     "output_type": "stream",
     "text": [
      "[CV] ........... C=1, gamma=10, kernel=rbf, score=0.832, total=   0.0s\n",
      "[CV] C=1, gamma=10, kernel=rbf .......................................\n",
      "[CV] ........... C=1, gamma=10, kernel=rbf, score=0.832, total=   0.0s\n",
      "[CV] C=1, gamma=100, kernel=rbf ......................................\n",
      "[CV] .......... C=1, gamma=100, kernel=rbf, score=0.853, total=   0.0s\n",
      "[CV] C=1, gamma=100, kernel=rbf ......................................\n",
      "[CV] .......... C=1, gamma=100, kernel=rbf, score=0.851, total=   0.0s\n",
      "[CV] C=1, gamma=100, kernel=rbf ......................................\n",
      "[CV] .......... C=1, gamma=100, kernel=rbf, score=0.842, total=   0.0s\n",
      "[CV] C=1, gamma=100, kernel=rbf ......................................\n",
      "[CV] .......... C=1, gamma=100, kernel=rbf, score=0.842, total=   0.0s\n",
      "[CV] C=1, gamma=100, kernel=rbf ......................................\n",
      "[CV] .......... C=1, gamma=100, kernel=rbf, score=0.851, total=   0.0s\n",
      "[CV] C=10, gamma=1, kernel=rbf .......................................\n",
      "[CV] ........... C=10, gamma=1, kernel=rbf, score=0.775, total=   0.0s\n",
      "[CV] C=10, gamma=1, kernel=rbf .......................................\n",
      "[CV] ........... C=10, gamma=1, kernel=rbf, score=0.762, total=   0.0s\n",
      "[CV] C=10, gamma=1, kernel=rbf .......................................\n",
      "[CV] ........... C=10, gamma=1, kernel=rbf, score=0.743, total=   0.0s\n",
      "[CV] C=10, gamma=1, kernel=rbf .......................................\n",
      "[CV] ........... C=10, gamma=1, kernel=rbf, score=0.743, total=   0.0s\n",
      "[CV] C=10, gamma=1, kernel=rbf .......................................\n",
      "[CV] ........... C=10, gamma=1, kernel=rbf, score=0.782, total=   0.0s\n",
      "[CV] C=10, gamma=10, kernel=rbf ......................................\n",
      "[CV] .......... C=10, gamma=10, kernel=rbf, score=0.843, total=   0.0s\n",
      "[CV] C=10, gamma=10, kernel=rbf ......................................\n",
      "[CV] .......... C=10, gamma=10, kernel=rbf, score=0.792, total=   0.0s\n",
      "[CV] C=10, gamma=10, kernel=rbf ......................................\n",
      "[CV] .......... C=10, gamma=10, kernel=rbf, score=0.812, total=   0.0s\n",
      "[CV] C=10, gamma=10, kernel=rbf ......................................\n",
      "[CV] .......... C=10, gamma=10, kernel=rbf, score=0.842, total=   0.0s\n",
      "[CV] C=10, gamma=10, kernel=rbf ......................................\n",
      "[CV] .......... C=10, gamma=10, kernel=rbf, score=0.842, total=   0.0s\n",
      "[CV] C=10, gamma=100, kernel=rbf .....................................\n",
      "[CV] ......... C=10, gamma=100, kernel=rbf, score=0.853, total=   0.0s\n",
      "[CV] C=10, gamma=100, kernel=rbf .....................................\n",
      "[CV] ......... C=10, gamma=100, kernel=rbf, score=0.851, total=   0.0s\n",
      "[CV] C=10, gamma=100, kernel=rbf .....................................\n",
      "[CV] ......... C=10, gamma=100, kernel=rbf, score=0.842, total=   0.0s\n",
      "[CV] C=10, gamma=100, kernel=rbf .....................................\n",
      "[CV] ......... C=10, gamma=100, kernel=rbf, score=0.842, total=   0.0s\n",
      "[CV] C=10, gamma=100, kernel=rbf .....................................\n",
      "[CV] ......... C=10, gamma=100, kernel=rbf, score=0.851, total=   0.0s\n",
      "[CV] C=100, gamma=1, kernel=rbf ......................................\n",
      "[CV] .......... C=100, gamma=1, kernel=rbf, score=0.804, total=   0.0s\n",
      "[CV] C=100, gamma=1, kernel=rbf ......................................\n",
      "[CV] .......... C=100, gamma=1, kernel=rbf, score=0.752, total=   0.0s\n",
      "[CV] C=100, gamma=1, kernel=rbf ......................................\n",
      "[CV] .......... C=100, gamma=1, kernel=rbf, score=0.733, total=   0.0s\n",
      "[CV] C=100, gamma=1, kernel=rbf ......................................\n",
      "[CV] .......... C=100, gamma=1, kernel=rbf, score=0.762, total=   0.0s\n",
      "[CV] C=100, gamma=1, kernel=rbf ......................................\n",
      "[CV] .......... C=100, gamma=1, kernel=rbf, score=0.792, total=   0.0s\n",
      "[CV] C=100, gamma=10, kernel=rbf .....................................\n",
      "[CV] ......... C=100, gamma=10, kernel=rbf, score=0.843, total=   0.0s\n",
      "[CV] C=100, gamma=10, kernel=rbf .....................................\n",
      "[CV] ......... C=100, gamma=10, kernel=rbf, score=0.782, total=   0.0s\n",
      "[CV] C=100, gamma=10, kernel=rbf .....................................\n",
      "[CV] ......... C=100, gamma=10, kernel=rbf, score=0.812, total=   0.0s\n",
      "[CV] C=100, gamma=10, kernel=rbf .....................................\n",
      "[CV] ......... C=100, gamma=10, kernel=rbf, score=0.842, total=   0.0s\n",
      "[CV] C=100, gamma=10, kernel=rbf .....................................\n",
      "[CV] ......... C=100, gamma=10, kernel=rbf, score=0.842, total=   0.0s\n",
      "[CV] C=100, gamma=100, kernel=rbf ....................................\n",
      "[CV] ........ C=100, gamma=100, kernel=rbf, score=0.853, total=   0.0s\n",
      "[CV] C=100, gamma=100, kernel=rbf ....................................\n",
      "[CV] ........ C=100, gamma=100, kernel=rbf, score=0.851, total=   0.0s\n",
      "[CV] C=100, gamma=100, kernel=rbf ....................................\n",
      "[CV] ........ C=100, gamma=100, kernel=rbf, score=0.842, total=   0.0s\n",
      "[CV] C=100, gamma=100, kernel=rbf ....................................\n",
      "[CV] ........ C=100, gamma=100, kernel=rbf, score=0.842, total=   0.0s\n",
      "[CV] C=100, gamma=100, kernel=rbf ....................................\n",
      "[CV] ........ C=100, gamma=100, kernel=rbf, score=0.851, total=   0.0s\n",
      "[CV] C=1000, gamma=1, kernel=rbf .....................................\n",
      "[CV] ......... C=1000, gamma=1, kernel=rbf, score=0.794, total=   0.0s\n",
      "[CV] C=1000, gamma=1, kernel=rbf .....................................\n",
      "[CV] ......... C=1000, gamma=1, kernel=rbf, score=0.752, total=   0.0s\n",
      "[CV] C=1000, gamma=1, kernel=rbf .....................................\n",
      "[CV] ......... C=1000, gamma=1, kernel=rbf, score=0.772, total=   0.0s\n",
      "[CV] C=1000, gamma=1, kernel=rbf .....................................\n",
      "[CV] ......... C=1000, gamma=1, kernel=rbf, score=0.762, total=   0.0s\n",
      "[CV] C=1000, gamma=1, kernel=rbf .....................................\n",
      "[CV] ......... C=1000, gamma=1, kernel=rbf, score=0.812, total=   0.0s\n",
      "[CV] C=1000, gamma=10, kernel=rbf ....................................\n",
      "[CV] ........ C=1000, gamma=10, kernel=rbf, score=0.843, total=   0.0s\n",
      "[CV] C=1000, gamma=10, kernel=rbf ....................................\n",
      "[CV] ........ C=1000, gamma=10, kernel=rbf, score=0.782, total=   0.0s\n",
      "[CV] C=1000, gamma=10, kernel=rbf ....................................\n",
      "[CV] ........ C=1000, gamma=10, kernel=rbf, score=0.812, total=   0.0s\n",
      "[CV] C=1000, gamma=10, kernel=rbf ....................................\n",
      "[CV] ........ C=1000, gamma=10, kernel=rbf, score=0.842, total=   0.0s\n",
      "[CV] C=1000, gamma=10, kernel=rbf ....................................\n",
      "[CV] ........ C=1000, gamma=10, kernel=rbf, score=0.842, total=   0.0s\n",
      "[CV] C=1000, gamma=100, kernel=rbf ...................................\n",
      "[CV] ....... C=1000, gamma=100, kernel=rbf, score=0.853, total=   0.0s\n",
      "[CV] C=1000, gamma=100, kernel=rbf ...................................\n",
      "[CV] ....... C=1000, gamma=100, kernel=rbf, score=0.851, total=   0.0s\n",
      "[CV] C=1000, gamma=100, kernel=rbf ...................................\n",
      "[CV] ....... C=1000, gamma=100, kernel=rbf, score=0.842, total=   0.0s\n",
      "[CV] C=1000, gamma=100, kernel=rbf ...................................\n",
      "[CV] ....... C=1000, gamma=100, kernel=rbf, score=0.842, total=   0.0s\n",
      "[CV] C=1000, gamma=100, kernel=rbf ...................................\n",
      "[CV] ....... C=1000, gamma=100, kernel=rbf, score=0.851, total=   0.0s\n"
     ]
    },
    {
     "name": "stderr",
     "output_type": "stream",
     "text": [
      "[Parallel(n_jobs=1)]: Done  60 out of  60 | elapsed:    1.6s finished\n"
     ]
    },
    {
     "data": {
      "text/plain": [
       "GridSearchCV(cv=None, error_score=nan,\n",
       "             estimator=SVC(C=1.0, break_ties=False, cache_size=200,\n",
       "                           class_weight=None, coef0=0.0,\n",
       "                           decision_function_shape='ovr', degree=3,\n",
       "                           gamma='scale', kernel='rbf', max_iter=-1,\n",
       "                           probability=False, random_state=None, shrinking=True,\n",
       "                           tol=0.001, verbose=False),\n",
       "             iid='deprecated', n_jobs=None,\n",
       "             param_grid={'C': [1, 10, 100, 1000], 'gamma': [1, 10, 100],\n",
       "                         'kernel': ['rbf']},\n",
       "             pre_dispatch='2*n_jobs', refit=True, return_train_score=False,\n",
       "             scoring=None, verbose=3)"
      ]
     },
     "execution_count": 164,
     "metadata": {},
     "output_type": "execute_result"
    }
   ],
   "source": [
    "param_grid = {'C': [1, 10, 100, 1000],  \n",
    "              'gamma': [1, 10, 100],\n",
    "              'kernel': ['rbf']}\n",
    "grid = GridSearchCV(svm.SVC(), param_grid, refit = True, verbose = 3) \n",
    "  \n",
    "# fitting the model for grid search \n",
    "grid.fit(X, y)"
   ]
  },
  {
   "cell_type": "code",
   "execution_count": 165,
   "metadata": {},
   "outputs": [
    {
     "name": "stdout",
     "output_type": "stream",
     "text": [
      "{'C': 1, 'gamma': 100, 'kernel': 'rbf'}\n"
     ]
    }
   ],
   "source": [
    "print(grid.best_params_)"
   ]
  },
  {
   "cell_type": "code",
   "execution_count": 166,
   "metadata": {},
   "outputs": [],
   "source": [
    "import random\n",
    "from sklearn.model_selection import train_test_split\n",
    "x_train, x_test, y_train, y_test = train_test_split(X, y, test_size=0.2, random_state=random.randint(0,99))\n",
    "x_trainBMI, x_testBMI, y_trainBMI, y_testBMI = train_test_split(X, yBMI, test_size=0.2, random_state=random.randint(0,99))"
   ]
  },
  {
   "cell_type": "code",
   "execution_count": 167,
   "metadata": {},
   "outputs": [
    {
     "data": {
      "text/plain": [
       "SVC(C=1, break_ties=False, cache_size=200, class_weight=None, coef0=0.0,\n",
       "    decision_function_shape='ovr', degree=3, gamma=100, kernel='rbf',\n",
       "    max_iter=-1, probability=False, random_state=None, shrinking=True,\n",
       "    tol=0.001, verbose=False)"
      ]
     },
     "execution_count": 167,
     "metadata": {},
     "output_type": "execute_result"
    }
   ],
   "source": [
    "clf = svm.SVC(C=1, gamma=100, kernel='rbf')\n",
    "clf.fit(x_train, y_train)"
   ]
  },
  {
   "cell_type": "code",
   "execution_count": 168,
   "metadata": {},
   "outputs": [],
   "source": [
    "test_y_predicted = clf.predict(x_test)"
   ]
  },
  {
   "cell_type": "code",
   "execution_count": 169,
   "metadata": {},
   "outputs": [],
   "source": [
    "from sklearn.metrics import confusion_matrix, classification_report"
   ]
  },
  {
   "cell_type": "code",
   "execution_count": 170,
   "metadata": {},
   "outputs": [
    {
     "data": {
      "text/plain": [
       "0.8431372549019608"
      ]
     },
     "execution_count": 170,
     "metadata": {},
     "output_type": "execute_result"
    }
   ],
   "source": [
    "accuracy = metrics.accuracy_score(y_test, test_y_predicted)\n",
    "accuracy"
   ]
  },
  {
   "cell_type": "code",
   "execution_count": 171,
   "metadata": {},
   "outputs": [
    {
     "name": "stdout",
     "output_type": "stream",
     "text": [
      "[[16  0  0  0  0  0]\n",
      " [ 0 20  1  0  0  0]\n",
      " [ 0  9  0  0  0  0]\n",
      " [ 0  6  0 21  0  0]\n",
      " [ 0  0  0  0 10  0]\n",
      " [ 0  0  0  0  0 19]]\n"
     ]
    }
   ],
   "source": [
    "cnf_matrix = confusion_matrix(y_test, test_y_predicted)\n",
    "print(cnf_matrix)"
   ]
  },
  {
   "cell_type": "code",
   "execution_count": 172,
   "metadata": {},
   "outputs": [
    {
     "name": "stdout",
     "output_type": "stream",
     "text": [
      "              precision    recall  f1-score   support\n",
      "\n",
      "           0       1.00      1.00      1.00        16\n",
      "           1       0.57      0.95      0.71        21\n",
      "           2       0.00      0.00      0.00         9\n",
      "           3       1.00      0.78      0.88        27\n",
      "           4       1.00      1.00      1.00        10\n",
      "           5       1.00      1.00      1.00        19\n",
      "\n",
      "    accuracy                           0.84       102\n",
      "   macro avg       0.76      0.79      0.76       102\n",
      "weighted avg       0.82      0.84      0.82       102\n",
      "\n"
     ]
    }
   ],
   "source": [
    "report_matrix = classification_report(y_test, test_y_predicted)\n",
    "print(report_matrix)"
   ]
  },
  {
   "cell_type": "code",
   "execution_count": 173,
   "metadata": {},
   "outputs": [],
   "source": [
    "clf = svm.SVR(C=1, gamma=100, kernel='rbf')\n",
    "clf.fit(x_trainBMI, y_trainBMI)\n",
    "test_y_predictedBMI = clf.predict(x_testBMI)"
   ]
  },
  {
   "cell_type": "code",
   "execution_count": 177,
   "metadata": {},
   "outputs": [
    {
     "data": {
      "text/plain": [
       "Text(0, 0.5, 'Measured')"
      ]
     },
     "execution_count": 177,
     "metadata": {},
     "output_type": "execute_result"
    },
    {
     "data": {
      "image/png": "[encoded data removed]",
      "text/plain": [
       "<Figure size 432x288 with 1 Axes>"
      ]
     },
     "metadata": {
      "needs_background": "light"
     },
     "output_type": "display_data"
    }
   ],
   "source": [
    "plt.plot(test_y_predictedBMI, y_testBMI, 'ro')\n",
    "plt.plot([test_y_predictedBMI.min(), test_y_predictedBMI.max()], [y_testBMI.min(), y_testBMI.max()], 'k--', lw=2)\n",
    "plt.xlabel('Predicted')\n",
    "plt.ylabel('Measured')"
   ]
  },
  {
   "cell_type": "code",
   "execution_count": 175,
   "metadata": {},
   "outputs": [],
   "source": [
    "import numpy as np\n",
    "def rmse(predictions, targets):\n",
    "    return np.sqrt((( ((predictions - targets) / targets) * 100 ) ** 2).mean())"
   ]
  },
  {
   "cell_type": "code",
   "execution_count": 176,
   "metadata": {},
   "outputs": [
    {
     "data": {
      "text/plain": [
       "84.34228839462847"
      ]
     },
     "execution_count": 176,
     "metadata": {},
     "output_type": "execute_result"
    }
   ],
   "source": [
    "acc = 100 - rmse(test_y_predictedBMI, y_testBMI)\n",
    "acc"
   ]
  },
  {
   "cell_type": "code",
   "execution_count": null,
   "metadata": {},
   "outputs": [],
   "source": []
  }
 ],
 "metadata": {
  "kernelspec": {
   "display_name": "Python 3",
   "language": "python",
   "name": "python3"
  },
  "language_info": {
   "codemirror_mode": {
    "name": "ipython",
    "version": 3
   },
   "file_extension": ".py",
   "mimetype": "text/x-python",
   "name": "python",
   "nbconvert_exporter": "python",
   "pygments_lexer": "ipython3",
   "version": "3.7.7"
  }
 },
 "nbformat": 4,
 "nbformat_minor": 2
}
